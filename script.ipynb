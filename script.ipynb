{
 "cells": [
  {
   "cell_type": "code",
   "execution_count": 94,
   "id": "041d15c7-77fa-451c-86cd-a1342aba1d86",
   "metadata": {},
   "outputs": [],
   "source": [
    "import numpy as np \n",
    "import pandas as pd \n",
    "import matplotlib.pyplot as plt "
   ]
  },
  {
   "cell_type": "code",
   "execution_count": 95,
   "id": "aa4e2348-da1c-453e-aee8-ba7ce86057fb",
   "metadata": {},
   "outputs": [
    {
     "data": {
      "text/html": [
       "<div>\n",
       "<style scoped>\n",
       "    .dataframe tbody tr th:only-of-type {\n",
       "        vertical-align: middle;\n",
       "    }\n",
       "\n",
       "    .dataframe tbody tr th {\n",
       "        vertical-align: top;\n",
       "    }\n",
       "\n",
       "    .dataframe thead th {\n",
       "        text-align: right;\n",
       "    }\n",
       "</style>\n",
       "<table border=\"1\" class=\"dataframe\">\n",
       "  <thead>\n",
       "    <tr style=\"text-align: right;\">\n",
       "      <th></th>\n",
       "      <th>ID</th>\n",
       "      <th>Resume_str</th>\n",
       "      <th>Resume_html</th>\n",
       "      <th>Category</th>\n",
       "    </tr>\n",
       "  </thead>\n",
       "  <tbody>\n",
       "    <tr>\n",
       "      <th>0</th>\n",
       "      <td>16852973</td>\n",
       "      <td>HR ADMINISTRATOR/MARKETING ASSOCIATE\\...</td>\n",
       "      <td>&lt;div class=\"fontsize fontface vmargins hmargin...</td>\n",
       "      <td>HR</td>\n",
       "    </tr>\n",
       "    <tr>\n",
       "      <th>1</th>\n",
       "      <td>22323967</td>\n",
       "      <td>HR SPECIALIST, US HR OPERATIONS      ...</td>\n",
       "      <td>&lt;div class=\"fontsize fontface vmargins hmargin...</td>\n",
       "      <td>HR</td>\n",
       "    </tr>\n",
       "    <tr>\n",
       "      <th>2</th>\n",
       "      <td>33176873</td>\n",
       "      <td>HR DIRECTOR       Summary      Over 2...</td>\n",
       "      <td>&lt;div class=\"fontsize fontface vmargins hmargin...</td>\n",
       "      <td>HR</td>\n",
       "    </tr>\n",
       "    <tr>\n",
       "      <th>3</th>\n",
       "      <td>27018550</td>\n",
       "      <td>HR SPECIALIST       Summary    Dedica...</td>\n",
       "      <td>&lt;div class=\"fontsize fontface vmargins hmargin...</td>\n",
       "      <td>HR</td>\n",
       "    </tr>\n",
       "    <tr>\n",
       "      <th>4</th>\n",
       "      <td>17812897</td>\n",
       "      <td>HR MANAGER         Skill Highlights  ...</td>\n",
       "      <td>&lt;div class=\"fontsize fontface vmargins hmargin...</td>\n",
       "      <td>HR</td>\n",
       "    </tr>\n",
       "  </tbody>\n",
       "</table>\n",
       "</div>"
      ],
      "text/plain": [
       "         ID                                         Resume_str  \\\n",
       "0  16852973           HR ADMINISTRATOR/MARKETING ASSOCIATE\\...   \n",
       "1  22323967           HR SPECIALIST, US HR OPERATIONS      ...   \n",
       "2  33176873           HR DIRECTOR       Summary      Over 2...   \n",
       "3  27018550           HR SPECIALIST       Summary    Dedica...   \n",
       "4  17812897           HR MANAGER         Skill Highlights  ...   \n",
       "\n",
       "                                         Resume_html Category  \n",
       "0  <div class=\"fontsize fontface vmargins hmargin...       HR  \n",
       "1  <div class=\"fontsize fontface vmargins hmargin...       HR  \n",
       "2  <div class=\"fontsize fontface vmargins hmargin...       HR  \n",
       "3  <div class=\"fontsize fontface vmargins hmargin...       HR  \n",
       "4  <div class=\"fontsize fontface vmargins hmargin...       HR  "
      ]
     },
     "execution_count": 95,
     "metadata": {},
     "output_type": "execute_result"
    }
   ],
   "source": [
    "df=pd.read_csv('Resume/Resume.csv')\n",
    "df.head()"
   ]
  },
  {
   "cell_type": "code",
   "execution_count": 96,
   "id": "aa24a20b-bb48-40ba-8fc0-169d9fb8686a",
   "metadata": {},
   "outputs": [
    {
     "data": {
      "text/html": [
       "<div>\n",
       "<style scoped>\n",
       "    .dataframe tbody tr th:only-of-type {\n",
       "        vertical-align: middle;\n",
       "    }\n",
       "\n",
       "    .dataframe tbody tr th {\n",
       "        vertical-align: top;\n",
       "    }\n",
       "\n",
       "    .dataframe thead th {\n",
       "        text-align: right;\n",
       "    }\n",
       "</style>\n",
       "<table border=\"1\" class=\"dataframe\">\n",
       "  <thead>\n",
       "    <tr style=\"text-align: right;\">\n",
       "      <th></th>\n",
       "      <th>ID</th>\n",
       "    </tr>\n",
       "  </thead>\n",
       "  <tbody>\n",
       "    <tr>\n",
       "      <th>count</th>\n",
       "      <td>2.484000e+03</td>\n",
       "    </tr>\n",
       "    <tr>\n",
       "      <th>mean</th>\n",
       "      <td>3.182616e+07</td>\n",
       "    </tr>\n",
       "    <tr>\n",
       "      <th>std</th>\n",
       "      <td>2.145735e+07</td>\n",
       "    </tr>\n",
       "    <tr>\n",
       "      <th>min</th>\n",
       "      <td>3.547447e+06</td>\n",
       "    </tr>\n",
       "    <tr>\n",
       "      <th>25%</th>\n",
       "      <td>1.754430e+07</td>\n",
       "    </tr>\n",
       "    <tr>\n",
       "      <th>50%</th>\n",
       "      <td>2.521031e+07</td>\n",
       "    </tr>\n",
       "    <tr>\n",
       "      <th>75%</th>\n",
       "      <td>3.611444e+07</td>\n",
       "    </tr>\n",
       "    <tr>\n",
       "      <th>max</th>\n",
       "      <td>9.980612e+07</td>\n",
       "    </tr>\n",
       "  </tbody>\n",
       "</table>\n",
       "</div>"
      ],
      "text/plain": [
       "                 ID\n",
       "count  2.484000e+03\n",
       "mean   3.182616e+07\n",
       "std    2.145735e+07\n",
       "min    3.547447e+06\n",
       "25%    1.754430e+07\n",
       "50%    2.521031e+07\n",
       "75%    3.611444e+07\n",
       "max    9.980612e+07"
      ]
     },
     "execution_count": 96,
     "metadata": {},
     "output_type": "execute_result"
    }
   ],
   "source": [
    "df.describe()"
   ]
  },
  {
   "cell_type": "code",
   "execution_count": 97,
   "id": "c639dbcd-1c86-4b10-996b-796be0403085",
   "metadata": {},
   "outputs": [],
   "source": [
    "from pivottablejs import pivot_ui"
   ]
  },
  {
   "cell_type": "code",
   "execution_count": 98,
   "id": "0ec401fd-1912-4521-aa88-48fb74c9ef73",
   "metadata": {},
   "outputs": [
    {
     "data": {
      "text/html": [
       "\n",
       "        <iframe\n",
       "            width=\"100%\"\n",
       "            height=\"500\"\n",
       "            src=\"pivottablejs.html\"\n",
       "            frameborder=\"0\"\n",
       "            allowfullscreen\n",
       "            \n",
       "        ></iframe>\n",
       "        "
      ],
      "text/plain": [
       "<IPython.lib.display.IFrame at 0x2b981986a60>"
      ]
     },
     "execution_count": 98,
     "metadata": {},
     "output_type": "execute_result"
    }
   ],
   "source": [
    "pivot_ui(df)"
   ]
  },
  {
   "cell_type": "code",
   "execution_count": 99,
   "id": "8aabb8d7-8496-43d4-9342-728757224804",
   "metadata": {},
   "outputs": [
    {
     "data": {
      "text/html": [
       "<div>\n",
       "<style scoped>\n",
       "    .dataframe tbody tr th:only-of-type {\n",
       "        vertical-align: middle;\n",
       "    }\n",
       "\n",
       "    .dataframe tbody tr th {\n",
       "        vertical-align: top;\n",
       "    }\n",
       "\n",
       "    .dataframe thead th {\n",
       "        text-align: right;\n",
       "    }\n",
       "</style>\n",
       "<table border=\"1\" class=\"dataframe\">\n",
       "  <thead>\n",
       "    <tr style=\"text-align: right;\">\n",
       "      <th></th>\n",
       "      <th>Resume_str</th>\n",
       "      <th>Category</th>\n",
       "    </tr>\n",
       "  </thead>\n",
       "  <tbody>\n",
       "    <tr>\n",
       "      <th>0</th>\n",
       "      <td>HR ADMINISTRATOR/MARKETING ASSOCIATE\\...</td>\n",
       "      <td>HR</td>\n",
       "    </tr>\n",
       "    <tr>\n",
       "      <th>1</th>\n",
       "      <td>HR SPECIALIST, US HR OPERATIONS      ...</td>\n",
       "      <td>HR</td>\n",
       "    </tr>\n",
       "    <tr>\n",
       "      <th>2</th>\n",
       "      <td>HR DIRECTOR       Summary      Over 2...</td>\n",
       "      <td>HR</td>\n",
       "    </tr>\n",
       "    <tr>\n",
       "      <th>3</th>\n",
       "      <td>HR SPECIALIST       Summary    Dedica...</td>\n",
       "      <td>HR</td>\n",
       "    </tr>\n",
       "    <tr>\n",
       "      <th>4</th>\n",
       "      <td>HR MANAGER         Skill Highlights  ...</td>\n",
       "      <td>HR</td>\n",
       "    </tr>\n",
       "    <tr>\n",
       "      <th>...</th>\n",
       "      <td>...</td>\n",
       "      <td>...</td>\n",
       "    </tr>\n",
       "    <tr>\n",
       "      <th>2479</th>\n",
       "      <td>RANK: SGT/E-5 NON- COMMISSIONED OFFIC...</td>\n",
       "      <td>AVIATION</td>\n",
       "    </tr>\n",
       "    <tr>\n",
       "      <th>2480</th>\n",
       "      <td>GOVERNMENT RELATIONS, COMMUNICATIONS ...</td>\n",
       "      <td>AVIATION</td>\n",
       "    </tr>\n",
       "    <tr>\n",
       "      <th>2481</th>\n",
       "      <td>GEEK SQUAD AGENT         Professional...</td>\n",
       "      <td>AVIATION</td>\n",
       "    </tr>\n",
       "    <tr>\n",
       "      <th>2482</th>\n",
       "      <td>PROGRAM DIRECTOR / OFFICE MANAGER    ...</td>\n",
       "      <td>AVIATION</td>\n",
       "    </tr>\n",
       "    <tr>\n",
       "      <th>2483</th>\n",
       "      <td>STOREKEEPER II       Professional Sum...</td>\n",
       "      <td>AVIATION</td>\n",
       "    </tr>\n",
       "  </tbody>\n",
       "</table>\n",
       "<p>2484 rows × 2 columns</p>\n",
       "</div>"
      ],
      "text/plain": [
       "                                             Resume_str  Category\n",
       "0              HR ADMINISTRATOR/MARKETING ASSOCIATE\\...        HR\n",
       "1              HR SPECIALIST, US HR OPERATIONS      ...        HR\n",
       "2              HR DIRECTOR       Summary      Over 2...        HR\n",
       "3              HR SPECIALIST       Summary    Dedica...        HR\n",
       "4              HR MANAGER         Skill Highlights  ...        HR\n",
       "...                                                 ...       ...\n",
       "2479           RANK: SGT/E-5 NON- COMMISSIONED OFFIC...  AVIATION\n",
       "2480           GOVERNMENT RELATIONS, COMMUNICATIONS ...  AVIATION\n",
       "2481           GEEK SQUAD AGENT         Professional...  AVIATION\n",
       "2482           PROGRAM DIRECTOR / OFFICE MANAGER    ...  AVIATION\n",
       "2483           STOREKEEPER II       Professional Sum...  AVIATION\n",
       "\n",
       "[2484 rows x 2 columns]"
      ]
     },
     "execution_count": 99,
     "metadata": {},
     "output_type": "execute_result"
    }
   ],
   "source": [
    "df.drop(columns = ['ID', 'Resume_html'], inplace = True)\n",
    "df"
   ]
  },
  {
   "cell_type": "markdown",
   "id": "57417ece-3703-452d-a67d-019a65de81e9",
   "metadata": {},
   "source": [
    "# Data preprocess\n"
   ]
  },
  {
   "cell_type": "code",
   "execution_count": 100,
   "id": "c4d1aa14-943e-4ac4-bdb2-c26686ea10a2",
   "metadata": {},
   "outputs": [],
   "source": [
    "import nltk\n",
    "from nltk.stem import PorterStemmer, WordNetLemmatizer\n",
    "from nltk.corpus import stopwords\n",
    "from nltk.tokenize import word_tokenize, sent_tokenize\n",
    "import re"
   ]
  },
  {
   "cell_type": "code",
   "execution_count": 101,
   "id": "cb390cc7-0157-4409-bcdf-8e077b54b16b",
   "metadata": {},
   "outputs": [],
   "source": [
    "stemmer = nltk.stem.porter.PorterStemmer()"
   ]
  },
  {
   "cell_type": "code",
   "execution_count": 102,
   "id": "ceff6a0f-7577-46e3-9336-7b79223959d3",
   "metadata": {},
   "outputs": [],
   "source": [
    "def preprocess(txt):\n",
    "    # convert all characters in the string to lower case\n",
    "    txt = txt.lower()\n",
    "    # remove non-english characters, punctuation and numbers\n",
    "    txt = re.sub('[^a-zA-Z]', ' ', txt)\n",
    "    # tokenize word\n",
    "    txt = nltk.tokenize.word_tokenize(txt)\n",
    "    # remove stop words\n",
    "    txt = [w for w in txt if not w in nltk.corpus.stopwords.words('english')]\n",
    "    # stemming\n",
    "    txt = [stemmer.stem(w) for w in txt]\n",
    "\n",
    "    return ' '.join(txt)"
   ]
  },
  {
   "cell_type": "code",
   "execution_count": 103,
   "id": "fda0885d-42ed-4cf8-860d-fb458953c25f",
   "metadata": {},
   "outputs": [
    {
     "data": {
      "text/html": [
       "<div>\n",
       "<style scoped>\n",
       "    .dataframe tbody tr th:only-of-type {\n",
       "        vertical-align: middle;\n",
       "    }\n",
       "\n",
       "    .dataframe tbody tr th {\n",
       "        vertical-align: top;\n",
       "    }\n",
       "\n",
       "    .dataframe thead th {\n",
       "        text-align: right;\n",
       "    }\n",
       "</style>\n",
       "<table border=\"1\" class=\"dataframe\">\n",
       "  <thead>\n",
       "    <tr style=\"text-align: right;\">\n",
       "      <th></th>\n",
       "      <th>Category</th>\n",
       "      <th>Resume</th>\n",
       "    </tr>\n",
       "  </thead>\n",
       "  <tbody>\n",
       "    <tr>\n",
       "      <th>0</th>\n",
       "      <td>HR</td>\n",
       "      <td>hr administr market associ hr administr summar...</td>\n",
       "    </tr>\n",
       "    <tr>\n",
       "      <th>1</th>\n",
       "      <td>HR</td>\n",
       "      <td>hr specialist us hr oper summari versatil medi...</td>\n",
       "    </tr>\n",
       "    <tr>\n",
       "      <th>2</th>\n",
       "      <td>HR</td>\n",
       "      <td>hr director summari year experi recruit plu ye...</td>\n",
       "    </tr>\n",
       "    <tr>\n",
       "      <th>3</th>\n",
       "      <td>HR</td>\n",
       "      <td>hr specialist summari dedic driven dynam year ...</td>\n",
       "    </tr>\n",
       "    <tr>\n",
       "      <th>4</th>\n",
       "      <td>HR</td>\n",
       "      <td>hr manag skill highlight hr skill hr depart st...</td>\n",
       "    </tr>\n",
       "  </tbody>\n",
       "</table>\n",
       "</div>"
      ],
      "text/plain": [
       "  Category                                             Resume\n",
       "0       HR  hr administr market associ hr administr summar...\n",
       "1       HR  hr specialist us hr oper summari versatil medi...\n",
       "2       HR  hr director summari year experi recruit plu ye...\n",
       "3       HR  hr specialist summari dedic driven dynam year ...\n",
       "4       HR  hr manag skill highlight hr skill hr depart st..."
      ]
     },
     "execution_count": 103,
     "metadata": {},
     "output_type": "execute_result"
    }
   ],
   "source": [
    "df['Resume'] = df['Resume_str'].apply(lambda w: preprocess(w))\n",
    "# drop original text column\n",
    "df.pop('Resume_str')\n",
    "df.head()"
   ]
  },
  {
   "cell_type": "code",
   "execution_count": 104,
   "id": "dc52fc16-0972-431e-b01f-ad7eefcaa459",
   "metadata": {},
   "outputs": [
    {
     "data": {
      "text/plain": [
       "<bound method DataFrame.info of       Category                                             Resume\n",
       "0           HR  hr administr market associ hr administr summar...\n",
       "1           HR  hr specialist us hr oper summari versatil medi...\n",
       "2           HR  hr director summari year experi recruit plu ye...\n",
       "3           HR  hr specialist summari dedic driven dynam year ...\n",
       "4           HR  hr manag skill highlight hr skill hr depart st...\n",
       "...        ...                                                ...\n",
       "2479  AVIATION  rank sgt e non commiss offic charg brigad mail...\n",
       "2480  AVIATION  govern relat commun organiz develop director p...\n",
       "2481  AVIATION  geek squad agent profession profil support spe...\n",
       "2482  AVIATION  program director offic manag summari highli pe...\n",
       "2483  AVIATION  storekeep ii profession summari purpos documen...\n",
       "\n",
       "[2484 rows x 2 columns]>"
      ]
     },
     "execution_count": 104,
     "metadata": {},
     "output_type": "execute_result"
    }
   ],
   "source": [
    "df.info"
   ]
  },
  {
   "cell_type": "code",
   "execution_count": 105,
   "id": "c268852c-c53a-43f8-9197-5e37b351a5d3",
   "metadata": {},
   "outputs": [
    {
     "data": {
      "text/plain": [
       "INFORMATION-TECHNOLOGY    120\n",
       "BUSINESS-DEVELOPMENT      120\n",
       "FINANCE                   118\n",
       "ADVOCATE                  118\n",
       "ACCOUNTANT                118\n",
       "ENGINEERING               118\n",
       "CHEF                      118\n",
       "AVIATION                  117\n",
       "FITNESS                   117\n",
       "SALES                     116\n",
       "BANKING                   115\n",
       "HEALTHCARE                115\n",
       "CONSULTANT                115\n",
       "CONSTRUCTION              112\n",
       "PUBLIC-RELATIONS          111\n",
       "HR                        110\n",
       "DESIGNER                  107\n",
       "ARTS                      103\n",
       "TEACHER                   102\n",
       "APPAREL                    97\n",
       "DIGITAL-MEDIA              96\n",
       "AGRICULTURE                63\n",
       "AUTOMOBILE                 36\n",
       "BPO                        22\n",
       "Name: Category, dtype: int64"
      ]
     },
     "execution_count": 105,
     "metadata": {},
     "output_type": "execute_result"
    }
   ],
   "source": [
    "df.Category.value_counts()"
   ]
  },
  {
   "cell_type": "code",
   "execution_count": 106,
   "id": "67d970fc-ece9-4a25-891f-1e68d3b9788a",
   "metadata": {},
   "outputs": [
    {
     "data": {
      "image/png": "[encoded data removed]",
      "text/plain": [
       "<Figure size 800x600 with 1 Axes>"
      ]
     },
     "metadata": {},
     "output_type": "display_data"
    }
   ],
   "source": [
    "import seaborn as sns\n",
    "plt.figure(figsize=(8,6))\n",
    "sns.countplot(y=\"Category\" , palette=\"Set3\", data=df, order = df['Category'].value_counts().index);"
   ]
  },
  {
   "cell_type": "code",
   "execution_count": 56,
   "id": "f817c0bf-2633-42d0-9be3-e1951d07a2c3",
   "metadata": {},
   "outputs": [
    {
     "data": {
      "text/plain": [
       "'hr specialist us hr oper summari versatil media profession background commun market human resourc technolog experi current hr specialist us hr oper compani name citi state manag commun regard launch oper group polici chang system outag design standard work job aid creat comprehens train program new employe contractor audit job post old pend hold draft posit audit union hourli non union hourli salari background check drug screen conduct monthli new hire benefit brief new employe across busi unit serv link hr manag vendor handl question resolv system relat issu provid real time process improv feedback key metric initi success brand us hr oper sharepoint site busi unit project manag rfi rfp background check drug screen vendor market commun co op compani name citi state post new articl chang updat corpor sharepoint site includ graphic visual commun research draft articl featur stori promot compani activ program co edit develop content quarterli publish newslett provid commun support intern extern event collabor commun team media profession vendor determin program need print materi web design digit commun entrust lead product servic softwar launch digit asset manag tool market toolkit websit execut tradeshow calendar creat present manag execut approv ensur align corpor guidelin brand maintain mysikorski sharepoint site provid time solut mitig issu creat stori board produc video annual hand meet relationship coordin market specialist compani name citi state partner vendor manag hous advertis program consist print media collater piec coordin pre show post show activ trade show manag market campaign gener new busi support partner sale team order market collater meet trade show advisor improv administ modifi market program increas product awar assist prepar intern promot public manag market materi inventori supervis distribut public ensur high qualiti product output coordin market materi includ brochur promot materi product partner graphic design develop appropri materi brand brochur use track report system sale lead appoint assist head teller compani name citi state receiv intern audit score perform daili monthli audit atm machin teller educ custom varieti retail product avail credit option consist met exceed quarterli sale goal promot product servic custom maintain compani brand ident implement program achiev exceed custom compani particip goal organ compani sponsor event campu result increas brand awar coach peer proper use program improv work flow effici util product knowledg success sell refer client base individu need promot market grand open new branch locat strengthen compani brand affin organ compani sponsor event result increas brand awar improv sale coach peer proper use program increas work flow effici senior produc shu media exchang compani name citi state plan execut event focus connecticut creativ corridor growth industri opportun come develop panel industri profession address topic relat media host question answer session approxim attende follow forum guest invit engag network convers post event recept educ master art corpor commun public relat sacr heart univers citi state bachelor art relat commun western connecticut state univers citi state skill adob photoshop adp asset manag brand brochur content custom care final cut pro graphic graphic hr illustr indesign innov inventori lotu note market market materi market materi materi microsoft offic sharepoint newslett present process improv project manag promot materi public qualiti real time recruit report rfp sale stori employe develop video web design websit articl'"
      ]
     },
     "execution_count": 56,
     "metadata": {},
     "output_type": "execute_result"
    }
   ],
   "source": [
    "df[\"Resume\"][1]"
   ]
  },
  {
   "cell_type": "code",
   "execution_count": 107,
   "id": "08fad15b-0564-48c8-a335-c29fd68557e6",
   "metadata": {},
   "outputs": [
    {
     "data": {
      "text/plain": [
       "array(['ACCOUNTANT', 'ADVOCATE', 'AGRICULTURE', 'APPAREL', 'ARTS',\n",
       "       'AUTOMOBILE', 'AVIATION', 'BANKING', 'BPO', 'BUSINESS-DEVELOPMENT',\n",
       "       'CHEF', 'CONSTRUCTION', 'CONSULTANT', 'DESIGNER', 'DIGITAL-MEDIA',\n",
       "       'ENGINEERING', 'FINANCE', 'FITNESS', 'HEALTHCARE', 'HR',\n",
       "       'INFORMATION-TECHNOLOGY', 'PUBLIC-RELATIONS', 'SALES', 'TEACHER'],\n",
       "      dtype=object)"
      ]
     },
     "execution_count": 107,
     "metadata": {},
     "output_type": "execute_result"
    }
   ],
   "source": [
    "categories = np.sort(df['Category'].unique())\n",
    "categories"
   ]
  },
  {
   "cell_type": "code",
   "execution_count": 108,
   "id": "8458c1a3-a771-4f34-b408-ab07100804ef",
   "metadata": {},
   "outputs": [],
   "source": [
    "def wordfreq(df):\n",
    "    count = df['Resume'].str.split(expand=True).stack().value_counts().reset_index()\n",
    "    count.columns = ['Word', 'Frequency']\n",
    "\n",
    "    return count.head(10)"
   ]
  },
  {
   "cell_type": "markdown",
   "id": "e2b562ef-bba5-4ea4-85cc-a348112ef0e9",
   "metadata": {},
   "source": [
    "# Removing stopword"
   ]
  },
  {
   "cell_type": "code",
   "execution_count": 110,
   "id": "1a53b51b-269f-4ffd-859d-c999ef9271e0",
   "metadata": {},
   "outputs": [],
   "source": [
    "import gensim\n",
    "from gensim.utils import simple_preprocess\n",
    "from gensim.parsing.preprocessing import STOPWORDS\n",
    "from wordcloud import WordCloud, STOPWORDS"
   ]
  },
  {
   "cell_type": "code",
   "execution_count": 111,
   "id": "427b8760-2f02-4d2c-a76c-d6546e4c925e",
   "metadata": {},
   "outputs": [
    {
     "name": "stderr",
     "output_type": "stream",
     "text": [
      "[nltk_data] Downloading package stopwords to\n",
      "[nltk_data]     C:\\Users\\user\\AppData\\Roaming\\nltk_data...\n",
      "[nltk_data]   Package stopwords is already up-to-date!\n"
     ]
    },
    {
     "data": {
      "text/plain": [
       "179"
      ]
     },
     "execution_count": 111,
     "metadata": {},
     "output_type": "execute_result"
    }
   ],
   "source": [
    "import nltk\n",
    "nltk.download('stopwords')\n",
    "import string\n",
    "from nltk.corpus import stopwords\n",
    "from nltk import word_tokenize\n",
    "stop_words=stopwords.words('english')\n",
    "len(stop_words)"
   ]
  },
  {
   "cell_type": "code",
   "execution_count": 112,
   "id": "ac2e0bc1-4db8-4244-a98c-1bdc48bc8b0f",
   "metadata": {},
   "outputs": [],
   "source": [
    "def remove_stop_words (text):\n",
    "  result = []\n",
    "  for token in gensim.utils.simple_preprocess(text):\n",
    "    if token not in gensim.parsing.preprocessing.STOPWORDS and len(token) > 3 and token not in stop_words:\n",
    "      result.append(token)\n",
    "\n",
    "  return result"
   ]
  },
  {
   "cell_type": "code",
   "execution_count": 113,
   "id": "a8ef44dc-48fe-4f03-b953-759e06fe92a0",
   "metadata": {},
   "outputs": [],
   "source": [
    "df['filename'] = df['Resume'].apply(remove_stop_words).astype(str)"
   ]
  },
  {
   "cell_type": "code",
   "execution_count": 114,
   "id": "ee1b4bc1-6222-4f33-b9e7-44bae903d077",
   "metadata": {},
   "outputs": [
    {
     "data": {
      "text/html": [
       "<div>\n",
       "<style scoped>\n",
       "    .dataframe tbody tr th:only-of-type {\n",
       "        vertical-align: middle;\n",
       "    }\n",
       "\n",
       "    .dataframe tbody tr th {\n",
       "        vertical-align: top;\n",
       "    }\n",
       "\n",
       "    .dataframe thead th {\n",
       "        text-align: right;\n",
       "    }\n",
       "</style>\n",
       "<table border=\"1\" class=\"dataframe\">\n",
       "  <thead>\n",
       "    <tr style=\"text-align: right;\">\n",
       "      <th></th>\n",
       "      <th>Category</th>\n",
       "      <th>Resume</th>\n",
       "      <th>filename</th>\n",
       "    </tr>\n",
       "  </thead>\n",
       "  <tbody>\n",
       "    <tr>\n",
       "      <th>0</th>\n",
       "      <td>HR</td>\n",
       "      <td>hr administr market associ hr administr summar...</td>\n",
       "      <td>['administr', 'market', 'associ', 'administr',...</td>\n",
       "    </tr>\n",
       "    <tr>\n",
       "      <th>1</th>\n",
       "      <td>HR</td>\n",
       "      <td>hr specialist us hr oper summari versatil medi...</td>\n",
       "      <td>['specialist', 'oper', 'summari', 'versatil', ...</td>\n",
       "    </tr>\n",
       "    <tr>\n",
       "      <th>2</th>\n",
       "      <td>HR</td>\n",
       "      <td>hr director summari year experi recruit plu ye...</td>\n",
       "      <td>['director', 'summari', 'year', 'experi', 'rec...</td>\n",
       "    </tr>\n",
       "    <tr>\n",
       "      <th>3</th>\n",
       "      <td>HR</td>\n",
       "      <td>hr specialist summari dedic driven dynam year ...</td>\n",
       "      <td>['specialist', 'summari', 'dedic', 'driven', '...</td>\n",
       "    </tr>\n",
       "    <tr>\n",
       "      <th>4</th>\n",
       "      <td>HR</td>\n",
       "      <td>hr manag skill highlight hr skill hr depart st...</td>\n",
       "      <td>['manag', 'skill', 'highlight', 'skill', 'depa...</td>\n",
       "    </tr>\n",
       "    <tr>\n",
       "      <th>...</th>\n",
       "      <td>...</td>\n",
       "      <td>...</td>\n",
       "      <td>...</td>\n",
       "    </tr>\n",
       "    <tr>\n",
       "      <th>2479</th>\n",
       "      <td>AVIATION</td>\n",
       "      <td>rank sgt e non commiss offic charg brigad mail...</td>\n",
       "      <td>['rank', 'commiss', 'offic', 'charg', 'brigad'...</td>\n",
       "    </tr>\n",
       "    <tr>\n",
       "      <th>2480</th>\n",
       "      <td>AVIATION</td>\n",
       "      <td>govern relat commun organiz develop director p...</td>\n",
       "      <td>['govern', 'relat', 'commun', 'organiz', 'deve...</td>\n",
       "    </tr>\n",
       "    <tr>\n",
       "      <th>2481</th>\n",
       "      <td>AVIATION</td>\n",
       "      <td>geek squad agent profession profil support spe...</td>\n",
       "      <td>['geek', 'squad', 'agent', 'profession', 'prof...</td>\n",
       "    </tr>\n",
       "    <tr>\n",
       "      <th>2482</th>\n",
       "      <td>AVIATION</td>\n",
       "      <td>program director offic manag summari highli pe...</td>\n",
       "      <td>['program', 'director', 'offic', 'manag', 'sum...</td>\n",
       "    </tr>\n",
       "    <tr>\n",
       "      <th>2483</th>\n",
       "      <td>AVIATION</td>\n",
       "      <td>storekeep ii profession summari purpos documen...</td>\n",
       "      <td>['storekeep', 'profession', 'summari', 'purpos...</td>\n",
       "    </tr>\n",
       "  </tbody>\n",
       "</table>\n",
       "<p>2484 rows × 3 columns</p>\n",
       "</div>"
      ],
      "text/plain": [
       "      Category                                             Resume  \\\n",
       "0           HR  hr administr market associ hr administr summar...   \n",
       "1           HR  hr specialist us hr oper summari versatil medi...   \n",
       "2           HR  hr director summari year experi recruit plu ye...   \n",
       "3           HR  hr specialist summari dedic driven dynam year ...   \n",
       "4           HR  hr manag skill highlight hr skill hr depart st...   \n",
       "...        ...                                                ...   \n",
       "2479  AVIATION  rank sgt e non commiss offic charg brigad mail...   \n",
       "2480  AVIATION  govern relat commun organiz develop director p...   \n",
       "2481  AVIATION  geek squad agent profession profil support spe...   \n",
       "2482  AVIATION  program director offic manag summari highli pe...   \n",
       "2483  AVIATION  storekeep ii profession summari purpos documen...   \n",
       "\n",
       "                                               filename  \n",
       "0     ['administr', 'market', 'associ', 'administr',...  \n",
       "1     ['specialist', 'oper', 'summari', 'versatil', ...  \n",
       "2     ['director', 'summari', 'year', 'experi', 'rec...  \n",
       "3     ['specialist', 'summari', 'dedic', 'driven', '...  \n",
       "4     ['manag', 'skill', 'highlight', 'skill', 'depa...  \n",
       "...                                                 ...  \n",
       "2479  ['rank', 'commiss', 'offic', 'charg', 'brigad'...  \n",
       "2480  ['govern', 'relat', 'commun', 'organiz', 'deve...  \n",
       "2481  ['geek', 'squad', 'agent', 'profession', 'prof...  \n",
       "2482  ['program', 'director', 'offic', 'manag', 'sum...  \n",
       "2483  ['storekeep', 'profession', 'summari', 'purpos...  \n",
       "\n",
       "[2484 rows x 3 columns]"
      ]
     },
     "execution_count": 114,
     "metadata": {},
     "output_type": "execute_result"
    }
   ],
   "source": [
    "df"
   ]
  },
  {
   "cell_type": "markdown",
   "id": "e7874deb-87f4-497f-8bec-7c3f5e7f77af",
   "metadata": {},
   "source": [
    "# lable Encodding"
   ]
  },
  {
   "cell_type": "code",
   "execution_count": 115,
   "id": "9e8f281d-45da-4041-bb04-8fcbd27050f6",
   "metadata": {},
   "outputs": [],
   "source": [
    "from sklearn.preprocessing import LabelEncoder\n",
    "encoder = LabelEncoder()\n",
    "df['Category_labels']=encoder.fit_transform(df.Category)"
   ]
  },
  {
   "cell_type": "code",
   "execution_count": 116,
   "id": "82ad3b2e-b236-40f0-9846-008565eb4778",
   "metadata": {},
   "outputs": [
    {
     "name": "stdout",
     "output_type": "stream",
     "text": [
      "<class 'pandas.core.frame.DataFrame'>\n",
      "RangeIndex: 2484 entries, 0 to 2483\n",
      "Data columns (total 4 columns):\n",
      " #   Column           Non-Null Count  Dtype \n",
      "---  ------           --------------  ----- \n",
      " 0   Category         2484 non-null   object\n",
      " 1   Resume           2484 non-null   object\n",
      " 2   filename         2484 non-null   object\n",
      " 3   Category_labels  2484 non-null   int32 \n",
      "dtypes: int32(1), object(3)\n",
      "memory usage: 68.0+ KB\n"
     ]
    }
   ],
   "source": [
    "df.info()"
   ]
  },
  {
   "cell_type": "code",
   "execution_count": 117,
   "id": "92de51d3-85fa-4ac3-83d4-b288280474e7",
   "metadata": {},
   "outputs": [
    {
     "data": {
      "text/html": [
       "<div>\n",
       "<style scoped>\n",
       "    .dataframe tbody tr th:only-of-type {\n",
       "        vertical-align: middle;\n",
       "    }\n",
       "\n",
       "    .dataframe tbody tr th {\n",
       "        vertical-align: top;\n",
       "    }\n",
       "\n",
       "    .dataframe thead th {\n",
       "        text-align: right;\n",
       "    }\n",
       "</style>\n",
       "<table border=\"1\" class=\"dataframe\">\n",
       "  <thead>\n",
       "    <tr style=\"text-align: right;\">\n",
       "      <th></th>\n",
       "      <th>Category</th>\n",
       "      <th>Resume</th>\n",
       "      <th>filename</th>\n",
       "      <th>Category_labels</th>\n",
       "    </tr>\n",
       "  </thead>\n",
       "  <tbody>\n",
       "    <tr>\n",
       "      <th>0</th>\n",
       "      <td>HR</td>\n",
       "      <td>hr administr market associ hr administr summar...</td>\n",
       "      <td>['administr', 'market', 'associ', 'administr',...</td>\n",
       "      <td>19</td>\n",
       "    </tr>\n",
       "    <tr>\n",
       "      <th>1</th>\n",
       "      <td>HR</td>\n",
       "      <td>hr specialist us hr oper summari versatil medi...</td>\n",
       "      <td>['specialist', 'oper', 'summari', 'versatil', ...</td>\n",
       "      <td>19</td>\n",
       "    </tr>\n",
       "    <tr>\n",
       "      <th>2</th>\n",
       "      <td>HR</td>\n",
       "      <td>hr director summari year experi recruit plu ye...</td>\n",
       "      <td>['director', 'summari', 'year', 'experi', 'rec...</td>\n",
       "      <td>19</td>\n",
       "    </tr>\n",
       "    <tr>\n",
       "      <th>3</th>\n",
       "      <td>HR</td>\n",
       "      <td>hr specialist summari dedic driven dynam year ...</td>\n",
       "      <td>['specialist', 'summari', 'dedic', 'driven', '...</td>\n",
       "      <td>19</td>\n",
       "    </tr>\n",
       "    <tr>\n",
       "      <th>4</th>\n",
       "      <td>HR</td>\n",
       "      <td>hr manag skill highlight hr skill hr depart st...</td>\n",
       "      <td>['manag', 'skill', 'highlight', 'skill', 'depa...</td>\n",
       "      <td>19</td>\n",
       "    </tr>\n",
       "    <tr>\n",
       "      <th>...</th>\n",
       "      <td>...</td>\n",
       "      <td>...</td>\n",
       "      <td>...</td>\n",
       "      <td>...</td>\n",
       "    </tr>\n",
       "    <tr>\n",
       "      <th>2479</th>\n",
       "      <td>AVIATION</td>\n",
       "      <td>rank sgt e non commiss offic charg brigad mail...</td>\n",
       "      <td>['rank', 'commiss', 'offic', 'charg', 'brigad'...</td>\n",
       "      <td>6</td>\n",
       "    </tr>\n",
       "    <tr>\n",
       "      <th>2480</th>\n",
       "      <td>AVIATION</td>\n",
       "      <td>govern relat commun organiz develop director p...</td>\n",
       "      <td>['govern', 'relat', 'commun', 'organiz', 'deve...</td>\n",
       "      <td>6</td>\n",
       "    </tr>\n",
       "    <tr>\n",
       "      <th>2481</th>\n",
       "      <td>AVIATION</td>\n",
       "      <td>geek squad agent profession profil support spe...</td>\n",
       "      <td>['geek', 'squad', 'agent', 'profession', 'prof...</td>\n",
       "      <td>6</td>\n",
       "    </tr>\n",
       "    <tr>\n",
       "      <th>2482</th>\n",
       "      <td>AVIATION</td>\n",
       "      <td>program director offic manag summari highli pe...</td>\n",
       "      <td>['program', 'director', 'offic', 'manag', 'sum...</td>\n",
       "      <td>6</td>\n",
       "    </tr>\n",
       "    <tr>\n",
       "      <th>2483</th>\n",
       "      <td>AVIATION</td>\n",
       "      <td>storekeep ii profession summari purpos documen...</td>\n",
       "      <td>['storekeep', 'profession', 'summari', 'purpos...</td>\n",
       "      <td>6</td>\n",
       "    </tr>\n",
       "  </tbody>\n",
       "</table>\n",
       "<p>2484 rows × 4 columns</p>\n",
       "</div>"
      ],
      "text/plain": [
       "      Category                                             Resume  \\\n",
       "0           HR  hr administr market associ hr administr summar...   \n",
       "1           HR  hr specialist us hr oper summari versatil medi...   \n",
       "2           HR  hr director summari year experi recruit plu ye...   \n",
       "3           HR  hr specialist summari dedic driven dynam year ...   \n",
       "4           HR  hr manag skill highlight hr skill hr depart st...   \n",
       "...        ...                                                ...   \n",
       "2479  AVIATION  rank sgt e non commiss offic charg brigad mail...   \n",
       "2480  AVIATION  govern relat commun organiz develop director p...   \n",
       "2481  AVIATION  geek squad agent profession profil support spe...   \n",
       "2482  AVIATION  program director offic manag summari highli pe...   \n",
       "2483  AVIATION  storekeep ii profession summari purpos documen...   \n",
       "\n",
       "                                               filename  Category_labels  \n",
       "0     ['administr', 'market', 'associ', 'administr',...               19  \n",
       "1     ['specialist', 'oper', 'summari', 'versatil', ...               19  \n",
       "2     ['director', 'summari', 'year', 'experi', 'rec...               19  \n",
       "3     ['specialist', 'summari', 'dedic', 'driven', '...               19  \n",
       "4     ['manag', 'skill', 'highlight', 'skill', 'depa...               19  \n",
       "...                                                 ...              ...  \n",
       "2479  ['rank', 'commiss', 'offic', 'charg', 'brigad'...                6  \n",
       "2480  ['govern', 'relat', 'commun', 'organiz', 'deve...                6  \n",
       "2481  ['geek', 'squad', 'agent', 'profession', 'prof...                6  \n",
       "2482  ['program', 'director', 'offic', 'manag', 'sum...                6  \n",
       "2483  ['storekeep', 'profession', 'summari', 'purpos...                6  \n",
       "\n",
       "[2484 rows x 4 columns]"
      ]
     },
     "execution_count": 117,
     "metadata": {},
     "output_type": "execute_result"
    }
   ],
   "source": [
    "df"
   ]
  },
  {
   "cell_type": "code",
   "execution_count": 118,
   "id": "d3480a7d-e877-43e3-99d2-633cbc308811",
   "metadata": {},
   "outputs": [
    {
     "data": {
      "text/html": [
       "<div>\n",
       "<style scoped>\n",
       "    .dataframe tbody tr th:only-of-type {\n",
       "        vertical-align: middle;\n",
       "    }\n",
       "\n",
       "    .dataframe tbody tr th {\n",
       "        vertical-align: top;\n",
       "    }\n",
       "\n",
       "    .dataframe thead th {\n",
       "        text-align: right;\n",
       "    }\n",
       "</style>\n",
       "<table border=\"1\" class=\"dataframe\">\n",
       "  <thead>\n",
       "    <tr style=\"text-align: right;\">\n",
       "      <th></th>\n",
       "      <th>filename</th>\n",
       "      <th>Category_labels</th>\n",
       "    </tr>\n",
       "  </thead>\n",
       "  <tbody>\n",
       "    <tr>\n",
       "      <th>0</th>\n",
       "      <td>['administr', 'market', 'associ', 'administr',...</td>\n",
       "      <td>19</td>\n",
       "    </tr>\n",
       "    <tr>\n",
       "      <th>1</th>\n",
       "      <td>['specialist', 'oper', 'summari', 'versatil', ...</td>\n",
       "      <td>19</td>\n",
       "    </tr>\n",
       "    <tr>\n",
       "      <th>2</th>\n",
       "      <td>['director', 'summari', 'year', 'experi', 'rec...</td>\n",
       "      <td>19</td>\n",
       "    </tr>\n",
       "    <tr>\n",
       "      <th>3</th>\n",
       "      <td>['specialist', 'summari', 'dedic', 'driven', '...</td>\n",
       "      <td>19</td>\n",
       "    </tr>\n",
       "    <tr>\n",
       "      <th>4</th>\n",
       "      <td>['manag', 'skill', 'highlight', 'skill', 'depa...</td>\n",
       "      <td>19</td>\n",
       "    </tr>\n",
       "    <tr>\n",
       "      <th>...</th>\n",
       "      <td>...</td>\n",
       "      <td>...</td>\n",
       "    </tr>\n",
       "    <tr>\n",
       "      <th>2479</th>\n",
       "      <td>['rank', 'commiss', 'offic', 'charg', 'brigad'...</td>\n",
       "      <td>6</td>\n",
       "    </tr>\n",
       "    <tr>\n",
       "      <th>2480</th>\n",
       "      <td>['govern', 'relat', 'commun', 'organiz', 'deve...</td>\n",
       "      <td>6</td>\n",
       "    </tr>\n",
       "    <tr>\n",
       "      <th>2481</th>\n",
       "      <td>['geek', 'squad', 'agent', 'profession', 'prof...</td>\n",
       "      <td>6</td>\n",
       "    </tr>\n",
       "    <tr>\n",
       "      <th>2482</th>\n",
       "      <td>['program', 'director', 'offic', 'manag', 'sum...</td>\n",
       "      <td>6</td>\n",
       "    </tr>\n",
       "    <tr>\n",
       "      <th>2483</th>\n",
       "      <td>['storekeep', 'profession', 'summari', 'purpos...</td>\n",
       "      <td>6</td>\n",
       "    </tr>\n",
       "  </tbody>\n",
       "</table>\n",
       "<p>2484 rows × 2 columns</p>\n",
       "</div>"
      ],
      "text/plain": [
       "                                               filename  Category_labels\n",
       "0     ['administr', 'market', 'associ', 'administr',...               19\n",
       "1     ['specialist', 'oper', 'summari', 'versatil', ...               19\n",
       "2     ['director', 'summari', 'year', 'experi', 'rec...               19\n",
       "3     ['specialist', 'summari', 'dedic', 'driven', '...               19\n",
       "4     ['manag', 'skill', 'highlight', 'skill', 'depa...               19\n",
       "...                                                 ...              ...\n",
       "2479  ['rank', 'commiss', 'offic', 'charg', 'brigad'...                6\n",
       "2480  ['govern', 'relat', 'commun', 'organiz', 'deve...                6\n",
       "2481  ['geek', 'squad', 'agent', 'profession', 'prof...                6\n",
       "2482  ['program', 'director', 'offic', 'manag', 'sum...                6\n",
       "2483  ['storekeep', 'profession', 'summari', 'purpos...                6\n",
       "\n",
       "[2484 rows x 2 columns]"
      ]
     },
     "execution_count": 118,
     "metadata": {},
     "output_type": "execute_result"
    }
   ],
   "source": [
    "df.drop(columns = ['Category', 'Resume'], inplace = True)\n",
    "df"
   ]
  },
  {
   "cell_type": "code",
   "execution_count": 119,
   "id": "b305d2dc-b33d-4b32-82fa-6134f4341127",
   "metadata": {},
   "outputs": [],
   "source": [
    "df.to_csv(\"C:\\\\Users\\\\user\\\\Desktop\\\\Deep Learning\\\\Task file\\\\categorized_resumes.csv\",index=False)"
   ]
  },
  {
   "cell_type": "code",
   "execution_count": 120,
   "id": "e11e0c54-6857-4bcc-bb13-ea5650124430",
   "metadata": {},
   "outputs": [
    {
     "data": {
      "text/html": [
       "<div>\n",
       "<style scoped>\n",
       "    .dataframe tbody tr th:only-of-type {\n",
       "        vertical-align: middle;\n",
       "    }\n",
       "\n",
       "    .dataframe tbody tr th {\n",
       "        vertical-align: top;\n",
       "    }\n",
       "\n",
       "    .dataframe thead th {\n",
       "        text-align: right;\n",
       "    }\n",
       "</style>\n",
       "<table border=\"1\" class=\"dataframe\">\n",
       "  <thead>\n",
       "    <tr style=\"text-align: right;\">\n",
       "      <th></th>\n",
       "      <th>filename</th>\n",
       "      <th>Category_labels</th>\n",
       "    </tr>\n",
       "  </thead>\n",
       "  <tbody>\n",
       "    <tr>\n",
       "      <th>0</th>\n",
       "      <td>['administr', 'market', 'associ', 'administr',...</td>\n",
       "      <td>19</td>\n",
       "    </tr>\n",
       "    <tr>\n",
       "      <th>1</th>\n",
       "      <td>['specialist', 'oper', 'summari', 'versatil', ...</td>\n",
       "      <td>19</td>\n",
       "    </tr>\n",
       "    <tr>\n",
       "      <th>2</th>\n",
       "      <td>['director', 'summari', 'year', 'experi', 'rec...</td>\n",
       "      <td>19</td>\n",
       "    </tr>\n",
       "    <tr>\n",
       "      <th>3</th>\n",
       "      <td>['specialist', 'summari', 'dedic', 'driven', '...</td>\n",
       "      <td>19</td>\n",
       "    </tr>\n",
       "    <tr>\n",
       "      <th>4</th>\n",
       "      <td>['manag', 'skill', 'highlight', 'skill', 'depa...</td>\n",
       "      <td>19</td>\n",
       "    </tr>\n",
       "    <tr>\n",
       "      <th>...</th>\n",
       "      <td>...</td>\n",
       "      <td>...</td>\n",
       "    </tr>\n",
       "    <tr>\n",
       "      <th>2479</th>\n",
       "      <td>['rank', 'commiss', 'offic', 'charg', 'brigad'...</td>\n",
       "      <td>6</td>\n",
       "    </tr>\n",
       "    <tr>\n",
       "      <th>2480</th>\n",
       "      <td>['govern', 'relat', 'commun', 'organiz', 'deve...</td>\n",
       "      <td>6</td>\n",
       "    </tr>\n",
       "    <tr>\n",
       "      <th>2481</th>\n",
       "      <td>['geek', 'squad', 'agent', 'profession', 'prof...</td>\n",
       "      <td>6</td>\n",
       "    </tr>\n",
       "    <tr>\n",
       "      <th>2482</th>\n",
       "      <td>['program', 'director', 'offic', 'manag', 'sum...</td>\n",
       "      <td>6</td>\n",
       "    </tr>\n",
       "    <tr>\n",
       "      <th>2483</th>\n",
       "      <td>['storekeep', 'profession', 'summari', 'purpos...</td>\n",
       "      <td>6</td>\n",
       "    </tr>\n",
       "  </tbody>\n",
       "</table>\n",
       "<p>2484 rows × 2 columns</p>\n",
       "</div>"
      ],
      "text/plain": [
       "                                               filename  Category_labels\n",
       "0     ['administr', 'market', 'associ', 'administr',...               19\n",
       "1     ['specialist', 'oper', 'summari', 'versatil', ...               19\n",
       "2     ['director', 'summari', 'year', 'experi', 'rec...               19\n",
       "3     ['specialist', 'summari', 'dedic', 'driven', '...               19\n",
       "4     ['manag', 'skill', 'highlight', 'skill', 'depa...               19\n",
       "...                                                 ...              ...\n",
       "2479  ['rank', 'commiss', 'offic', 'charg', 'brigad'...                6\n",
       "2480  ['govern', 'relat', 'commun', 'organiz', 'deve...                6\n",
       "2481  ['geek', 'squad', 'agent', 'profession', 'prof...                6\n",
       "2482  ['program', 'director', 'offic', 'manag', 'sum...                6\n",
       "2483  ['storekeep', 'profession', 'summari', 'purpos...                6\n",
       "\n",
       "[2484 rows x 2 columns]"
      ]
     },
     "execution_count": 120,
     "metadata": {},
     "output_type": "execute_result"
    }
   ],
   "source": [
    "df_update=pd.read_csv(\"categorized_resumes.csv\")\n",
    "df_update"
   ]
  },
  {
   "cell_type": "code",
   "execution_count": 121,
   "id": "2ebcd949-207e-4d5d-8fb1-00e79993dd56",
   "metadata": {},
   "outputs": [],
   "source": [
    "from sklearn.model_selection import train_test_split"
   ]
  },
  {
   "cell_type": "code",
   "execution_count": 123,
   "id": "00ca7f95-d2f3-4d41-8fbf-c9ba49c3d5bb",
   "metadata": {},
   "outputs": [
    {
     "name": "stdout",
     "output_type": "stream",
     "text": [
      "(1863,)\n",
      "(1863,)\n",
      "(621,)\n",
      "(621,)\n"
     ]
    }
   ],
   "source": [
    "text = df[\"filename\"].values\n",
    "labels = df[\"Category_labels\"].values\n",
    "text_train,text_test,y_train,y_test = train_test_split(text, labels, random_state=0, test_size=0.25)\n",
    "print(text_train.shape)\n",
    "print(y_train.shape)\n",
    "print(text_test.shape)\n",
    "print(y_test.shape)"
   ]
  },
  {
   "cell_type": "markdown",
   "id": "be8ad43d-38d8-46d4-a1cf-ae7bb9490226",
   "metadata": {},
   "source": [
    "# Vectorization"
   ]
  },
  {
   "cell_type": "code",
   "execution_count": 124,
   "id": "f024c78e-6005-48bb-9d39-701fbf7a3ad9",
   "metadata": {},
   "outputs": [],
   "source": [
    "from sklearn.feature_extraction.text import TfidfVectorizer\n",
    "word_vectorizer = TfidfVectorizer(\n",
    "sublinear_tf=True,\n",
    "use_idf = True,\n",
    "stop_words='english',\n",
    "max_features=1000)"
   ]
  },
  {
   "cell_type": "code",
   "execution_count": 126,
   "id": "46005429-091c-44b9-82ec-4ea584bfcbca",
   "metadata": {},
   "outputs": [
    {
     "data": {
      "text/plain": [
       "(1863, 1000)"
      ]
     },
     "execution_count": 126,
     "metadata": {},
     "output_type": "execute_result"
    }
   ],
   "source": [
    "X_train = word_vectorizer.fit_transform(text_train)\n",
    "X_train.shape"
   ]
  },
  {
   "cell_type": "code",
   "execution_count": 127,
   "id": "c8b8f9dd-f9db-4c34-a8fd-90511aa5b817",
   "metadata": {},
   "outputs": [
    {
     "data": {
      "text/plain": [
       "(621, 1000)"
      ]
     },
     "execution_count": 127,
     "metadata": {},
     "output_type": "execute_result"
    }
   ],
   "source": [
    "X_test = word_vectorizer.transform(text_test)\n",
    "X_test.shape"
   ]
  },
  {
   "cell_type": "markdown",
   "id": "2f947716-d042-4be3-94fa-5a6fe01dad6f",
   "metadata": {},
   "source": [
    "# Multinomial Naive Bayes"
   ]
  },
  {
   "cell_type": "code",
   "execution_count": 130,
   "id": "5a2da374-d511-44f0-9a6a-d02b912bb20e",
   "metadata": {},
   "outputs": [],
   "source": [
    "from sklearn.naive_bayes import MultinomialNB"
   ]
  },
  {
   "cell_type": "code",
   "execution_count": 181,
   "id": "6ce99764-76c0-4bc0-96b6-7c7ca45dc915",
   "metadata": {},
   "outputs": [
    {
     "name": "stdout",
     "output_type": "stream",
     "text": [
      "Accuracy of MultinomialNB Classifier on training set: 0.63\n",
      "Accuracy of MultinomialNB Classifier on test set: 0.50\n"
     ]
    }
   ],
   "source": [
    "clf=MultinomialNB().fit(X_train,y_train)\n",
    "prediction_Mnb=clf.predict(X_test)\n",
    "print('Accuracy of MultinomialNB Classifier on training set: {:.2f}'.format(clf.score(X_train, y_train)))\n",
    "print('Accuracy of MultinomialNB Classifier on test set: {:.2f}'.format(clf.score(X_test, y_test)))"
   ]
  },
  {
   "cell_type": "code",
   "execution_count": 182,
   "id": "4f879267-fc1f-4e86-a4a3-92cabed5a9d2",
   "metadata": {},
   "outputs": [
    {
     "data": {
      "text/plain": [
       "0.5024154589371981"
      ]
     },
     "execution_count": 182,
     "metadata": {},
     "output_type": "execute_result"
    }
   ],
   "source": [
    "from sklearn.metrics import accuracy_score\n",
    "acuracy=accuracy_score(y_test,prediction_Mnb)\n",
    "acuracy"
   ]
  },
  {
   "cell_type": "code",
   "execution_count": 137,
   "id": "01a06d59-b654-4768-a9c6-0c734d526b04",
   "metadata": {},
   "outputs": [
    {
     "data": {
      "text/plain": [
       "array([14, 22, 22,  7,  0, 23, 21, 15, 22, 15, 15, 19, 20, 13, 11, 13, 18,\n",
       "       21, 16,  7, 21,  1,  6, 13,  1, 15,  7, 18, 15,  0, 20,  0, 22, 20,\n",
       "        0, 21,  7,  9, 14, 17, 18, 22, 20, 13, 11, 10,  9,  6,  6, 17, 11,\n",
       "       19, 22, 22, 23,  1, 15,  6, 15,  7, 19,  9, 17, 21,  7, 11, 11, 21,\n",
       "        9,  0,  0, 19, 17, 10, 16,  7, 15, 23,  0,  6, 22, 16, 20,  1, 10,\n",
       "       10, 23,  6, 18, 23, 20, 18,  7,  9,  6, 22, 15, 23, 19, 21, 19, 17,\n",
       "       21, 19,  1, 20, 11, 21,  2,  9,  9, 16, 14, 21,  9, 20, 23, 19, 23,\n",
       "       15, 23, 18, 22, 21,  0, 16, 21, 21,  7,  6, 16, 22,  7, 19, 10, 11,\n",
       "        4,  0,  0, 20, 10, 10, 11,  9, 21, 14, 21,  7, 10,  9, 15, 22,  6,\n",
       "       15, 17, 22, 16, 14,  6,  0, 10, 19, 23, 22, 21, 22, 10, 20, 18,  4,\n",
       "       19, 23, 22, 21, 18,  6, 23, 22,  6, 22,  0,  9, 22, 20, 17,  9, 20,\n",
       "       14,  0, 23, 20, 17, 11,  3,  9,  0,  0, 14,  9, 10, 23, 10,  7,  9,\n",
       "       18, 23,  7, 15,  0,  9, 11, 15,  6, 16, 22, 18, 20,  9,  1,  1,  1,\n",
       "       19, 19, 10,  1, 12,  0, 20, 12, 20, 23,  1, 19,  1, 17,  1,  0, 10,\n",
       "       22, 19, 19, 18, 10, 15,  7, 11, 23, 23,  7, 11, 22,  7, 11,  0, 16,\n",
       "       11, 16,  0, 22,  7, 22,  9,  6, 20, 19,  0, 16, 11, 11, 20, 19,  0,\n",
       "       15, 18, 22,  9, 17,  6, 19, 11, 17, 18,  6, 16, 22,  9, 20,  0,  6,\n",
       "       14, 15, 17, 22, 19, 23, 17,  7, 21, 20,  9, 18, 16,  7,  1, 17, 18,\n",
       "       20, 18, 14, 23, 22,  0, 23, 10,  0, 23, 16, 20, 18, 11, 20,  7, 12,\n",
       "       22, 12, 19, 22, 17, 15, 15, 21,  9, 22,  7, 15, 19, 12,  1, 16, 14,\n",
       "       21, 20,  0,  0,  0,  0, 15, 18, 17, 11,  6, 20, 15,  7, 16, 19, 11,\n",
       "        9, 20,  0, 12,  1, 18, 11,  6,  7, 11, 19,  9, 18, 21, 20,  9,  9,\n",
       "        0,  6, 23, 23, 21,  9, 13, 19, 22, 10, 22,  1, 21, 23,  0, 10,  9,\n",
       "       23, 20, 22, 20,  9, 10,  9, 11,  6, 17,  9,  6, 12,  4, 23,  7, 19,\n",
       "       15, 19, 18, 19, 16, 22, 19,  0,  7, 18, 10, 23, 20, 22, 18, 19, 15,\n",
       "       11, 20, 21, 22,  1,  1, 23,  6, 22, 10, 21, 20, 13,  0, 19, 20, 20,\n",
       "       10, 18, 11, 22, 22, 11,  9, 19, 22, 21,  7, 17, 16, 21,  7, 20, 13,\n",
       "       23, 11, 21, 17,  0,  1, 20, 21,  3,  0, 20, 15, 19,  3,  7, 16,  6,\n",
       "       23, 20, 20, 21,  7,  6,  0, 15, 15,  9, 23,  6, 22, 10, 19, 11, 11,\n",
       "        7, 20,  0, 19, 22, 11, 23, 10, 18, 15, 17,  4, 10, 22, 15, 16, 22,\n",
       "        9, 21, 22,  0,  0, 11, 19, 21, 16, 10, 20, 17, 23,  9, 13,  3, 20,\n",
       "       13, 17, 22, 10, 19, 21, 13, 20, 20,  0, 19,  9, 12, 12, 22, 10, 11,\n",
       "       18, 14, 20, 18, 15, 19,  0, 18, 20,  1, 15, 15,  0, 20, 16, 20,  0,\n",
       "       19, 16, 15, 14,  1, 21, 23, 18, 20, 20, 18, 21, 15, 22, 20,  1,  6,\n",
       "        9, 12, 22, 14,  0,  9,  1,  1, 21, 23, 15, 21, 20, 19, 22, 19,  0,\n",
       "        7,  6,  0,  1, 21, 10,  9,  7, 21, 23, 14, 21, 20,  0,  0, 22, 13,\n",
       "       17,  7,  0,  9,  9, 17,  9,  3, 11])"
      ]
     },
     "execution_count": 137,
     "metadata": {},
     "output_type": "execute_result"
    }
   ],
   "source": [
    "prediction_Mnb"
   ]
  },
  {
   "cell_type": "code",
   "execution_count": 161,
   "id": "5c8e74bb-3a88-42c8-83be-97b08ba11e11",
   "metadata": {},
   "outputs": [
    {
     "name": "stdout",
     "output_type": "stream",
     "text": [
      "              precision    recall  f1-score   support\n",
      "\n",
      "           0       0.46      0.88      0.61        26\n",
      "           1       0.48      0.41      0.44        29\n",
      "           2       1.00      0.05      0.09        22\n",
      "           3       0.80      0.16      0.27        25\n",
      "           4       0.25      0.04      0.06        28\n",
      "           5       0.00      0.00      0.00         6\n",
      "           6       0.89      0.68      0.77        37\n",
      "           7       0.52      0.65      0.58        26\n",
      "           8       0.00      0.00      0.00         9\n",
      "           9       0.55      0.62      0.58        37\n",
      "          10       0.69      0.77      0.73        26\n",
      "          11       0.52      0.74      0.61        23\n",
      "          12       0.10      0.04      0.05        28\n",
      "          13       0.91      0.42      0.57        24\n",
      "          14       0.50      0.50      0.50        14\n",
      "          15       0.69      0.62      0.65        39\n",
      "          16       0.43      0.30      0.36        33\n",
      "          17       0.54      0.42      0.47        31\n",
      "          18       0.37      0.44      0.40        25\n",
      "          19       0.60      0.89      0.71        28\n",
      "          20       0.42      0.79      0.54        28\n",
      "          21       0.42      0.65      0.52        26\n",
      "          22       0.23      0.38      0.29        32\n",
      "          23       0.46      0.89      0.61        19\n",
      "\n",
      "    accuracy                           0.50       621\n",
      "   macro avg       0.49      0.47      0.43       621\n",
      "weighted avg       0.52      0.50      0.47       621\n",
      "\n"
     ]
    },
    {
     "name": "stderr",
     "output_type": "stream",
     "text": [
      "C:\\Users\\user\\anaconda3\\envs\\Deeplearning\\lib\\site-packages\\sklearn\\metrics\\_classification.py:1344: UndefinedMetricWarning: Precision and F-score are ill-defined and being set to 0.0 in labels with no predicted samples. Use `zero_division` parameter to control this behavior.\n",
      "  _warn_prf(average, modifier, msg_start, len(result))\n",
      "C:\\Users\\user\\anaconda3\\envs\\Deeplearning\\lib\\site-packages\\sklearn\\metrics\\_classification.py:1344: UndefinedMetricWarning: Precision and F-score are ill-defined and being set to 0.0 in labels with no predicted samples. Use `zero_division` parameter to control this behavior.\n",
      "  _warn_prf(average, modifier, msg_start, len(result))\n",
      "C:\\Users\\user\\anaconda3\\envs\\Deeplearning\\lib\\site-packages\\sklearn\\metrics\\_classification.py:1344: UndefinedMetricWarning: Precision and F-score are ill-defined and being set to 0.0 in labels with no predicted samples. Use `zero_division` parameter to control this behavior.\n",
      "  _warn_prf(average, modifier, msg_start, len(result))\n"
     ]
    }
   ],
   "source": [
    "from sklearn import metrics\n",
    "metrics_Mnb=metrics.classification_report(y_test, prediction_Mnb)\n",
    "print(metrics_Mnb)"
   ]
  },
  {
   "cell_type": "code",
   "execution_count": 162,
   "id": "cd283c44-08db-48e2-974b-7763614bea3b",
   "metadata": {},
   "outputs": [
    {
     "data": {
      "text/plain": [
       "<AxesSubplot:>"
      ]
     },
     "execution_count": 162,
     "metadata": {},
     "output_type": "execute_result"
    },
    {
     "data": {
      "image/png": "[encoded data removed]",
      "text/plain": [
       "<Figure size 640x480 with 2 Axes>"
      ]
     },
     "metadata": {},
     "output_type": "display_data"
    }
   ],
   "source": [
    "from sklearn.metrics import confusion_matrix\n",
    "metrics_Mnb=confusion_matrix(y_test,prediction_Mnb)\n",
    "sns.heatmap(metrics_Mnb,annot=True)"
   ]
  },
  {
   "cell_type": "markdown",
   "id": "75bad846-85d4-4ffa-bf3e-a6a0a09f17f4",
   "metadata": {},
   "source": [
    "# KNN classifier"
   ]
  },
  {
   "cell_type": "code",
   "execution_count": 177,
   "id": "fc9f47b5-b299-49d9-b6f2-f9bbee325654",
   "metadata": {},
   "outputs": [
    {
     "name": "stdout",
     "output_type": "stream",
     "text": [
      "Accuracy of KNeighbors Classifier on training set: 0.67\n",
      "Accuracy of KNeighbors Classifier on test set: 0.48\n"
     ]
    }
   ],
   "source": [
    "from sklearn.neighbors import KNeighborsClassifier\n",
    "model = KNeighborsClassifier().fit(X_train, y_train)\n",
    "prediction_knc = model.predict(X_test)\n",
    "model.fit(X_train,y_train)\n",
    "print('Accuracy of KNeighbors Classifier on training set: {:.2f}'.format(model.score(X_train, y_train)))\n",
    "print('Accuracy of KNeighbors Classifier on test set: {:.2f}'.format(model.score(X_test, y_test)))"
   ]
  },
  {
   "cell_type": "code",
   "execution_count": 179,
   "id": "a0b6221e-1db1-4c06-a13e-de8164334685",
   "metadata": {},
   "outputs": [
    {
     "data": {
      "text/plain": [
       "0.47987117552334946"
      ]
     },
     "execution_count": 179,
     "metadata": {},
     "output_type": "execute_result"
    }
   ],
   "source": [
    "from sklearn.metrics import accuracy_score\n",
    "acuracy=accuracy_score(y_test,prediction_knc)\n",
    "acuracy"
   ]
  },
  {
   "cell_type": "code",
   "execution_count": 164,
   "id": "94b58320-3d01-4012-98bf-fe39422b04fd",
   "metadata": {},
   "outputs": [
    {
     "name": "stdout",
     "output_type": "stream",
     "text": [
      "              precision    recall  f1-score   support\n",
      "\n",
      "           0       0.45      0.88      0.60        26\n",
      "           1       0.28      0.45      0.34        29\n",
      "           2       0.30      0.14      0.19        22\n",
      "           3       0.28      0.32      0.30        25\n",
      "           4       0.15      0.14      0.15        28\n",
      "           5       0.00      0.00      0.00         6\n",
      "           6       0.90      0.76      0.82        37\n",
      "           7       0.62      0.58      0.60        26\n",
      "           8       0.00      0.00      0.00         9\n",
      "           9       0.32      0.70      0.44        37\n",
      "          10       0.86      0.69      0.77        26\n",
      "          11       0.61      0.74      0.67        23\n",
      "          12       0.29      0.21      0.24        28\n",
      "          13       0.67      0.42      0.51        24\n",
      "          14       0.57      0.57      0.57        14\n",
      "          15       0.83      0.51      0.63        39\n",
      "          16       0.59      0.30      0.40        33\n",
      "          17       0.77      0.32      0.45        31\n",
      "          18       0.41      0.36      0.38        25\n",
      "          19       0.62      0.82      0.71        28\n",
      "          20       0.39      0.39      0.39        28\n",
      "          21       0.54      0.58      0.56        26\n",
      "          22       0.36      0.28      0.32        32\n",
      "          23       0.57      0.63      0.60        19\n",
      "\n",
      "    accuracy                           0.48       621\n",
      "   macro avg       0.47      0.45      0.44       621\n",
      "weighted avg       0.51      0.48      0.47       621\n",
      "\n"
     ]
    },
    {
     "name": "stderr",
     "output_type": "stream",
     "text": [
      "C:\\Users\\user\\anaconda3\\envs\\Deeplearning\\lib\\site-packages\\sklearn\\metrics\\_classification.py:1344: UndefinedMetricWarning: Precision and F-score are ill-defined and being set to 0.0 in labels with no predicted samples. Use `zero_division` parameter to control this behavior.\n",
      "  _warn_prf(average, modifier, msg_start, len(result))\n",
      "C:\\Users\\user\\anaconda3\\envs\\Deeplearning\\lib\\site-packages\\sklearn\\metrics\\_classification.py:1344: UndefinedMetricWarning: Precision and F-score are ill-defined and being set to 0.0 in labels with no predicted samples. Use `zero_division` parameter to control this behavior.\n",
      "  _warn_prf(average, modifier, msg_start, len(result))\n",
      "C:\\Users\\user\\anaconda3\\envs\\Deeplearning\\lib\\site-packages\\sklearn\\metrics\\_classification.py:1344: UndefinedMetricWarning: Precision and F-score are ill-defined and being set to 0.0 in labels with no predicted samples. Use `zero_division` parameter to control this behavior.\n",
      "  _warn_prf(average, modifier, msg_start, len(result))\n"
     ]
    }
   ],
   "source": [
    "metrics_Knc=metrics.classification_report(y_test, prediction_knc)\n",
    "print(metrics_Knc)"
   ]
  },
  {
   "cell_type": "code",
   "execution_count": 165,
   "id": "35f42f96-dc7f-408e-9663-ff0e0bfb00ef",
   "metadata": {},
   "outputs": [
    {
     "data": {
      "text/plain": [
       "<AxesSubplot:>"
      ]
     },
     "execution_count": 165,
     "metadata": {},
     "output_type": "execute_result"
    },
    {
     "data": {
      "image/png": "[encoded data removed]",
      "text/plain": [
       "<Figure size 640x480 with 2 Axes>"
      ]
     },
     "metadata": {},
     "output_type": "display_data"
    }
   ],
   "source": [
    "from sklearn.metrics import confusion_matrix\n",
    "metrics_knc=confusion_matrix(y_test,prediction_knc)\n",
    "sns.heatmap(metrics_knc,annot=True)"
   ]
  },
  {
   "cell_type": "markdown",
   "id": "c7cc799d-1baa-4972-bd4c-22a01153306b",
   "metadata": {},
   "source": [
    "# RandomForestClassifier"
   ]
  },
  {
   "cell_type": "code",
   "execution_count": 166,
   "id": "99f8122e-1ebf-407c-8c62-ea34a1753895",
   "metadata": {},
   "outputs": [
    {
     "name": "stderr",
     "output_type": "stream",
     "text": [
      "C:\\Users\\user\\anaconda3\\envs\\Deeplearning\\lib\\site-packages\\sklearn\\ensemble\\_forest.py:424: FutureWarning: `max_features='auto'` has been deprecated in 1.1 and will be removed in 1.3. To keep the past behaviour, explicitly set `max_features='sqrt'` or remove this parameter as it is also the default value for RandomForestClassifiers and ExtraTreesClassifiers.\n",
      "  warn(\n"
     ]
    },
    {
     "data": {
      "text/html": [
       "<style>#sk-container-id-3 {color: black;background-color: white;}#sk-container-id-3 pre{padding: 0;}#sk-container-id-3 div.sk-toggleable {background-color: white;}#sk-container-id-3 label.sk-toggleable__label {cursor: pointer;display: block;width: 100%;margin-bottom: 0;padding: 0.3em;box-sizing: border-box;text-align: center;}#sk-container-id-3 label.sk-toggleable__label-arrow:before {content: \"▸\";float: left;margin-right: 0.25em;color: #696969;}#sk-container-id-3 label.sk-toggleable__label-arrow:hover:before {color: black;}#sk-container-id-3 div.sk-estimator:hover label.sk-toggleable__label-arrow:before {color: black;}#sk-container-id-3 div.sk-toggleable__content {max-height: 0;max-width: 0;overflow: hidden;text-align: left;background-color: #f0f8ff;}#sk-container-id-3 div.sk-toggleable__content pre {margin: 0.2em;color: black;border-radius: 0.25em;background-color: #f0f8ff;}#sk-container-id-3 input.sk-toggleable__control:checked~div.sk-toggleable__content {max-height: 200px;max-width: 100%;overflow: auto;}#sk-container-id-3 input.sk-toggleable__control:checked~label.sk-toggleable__label-arrow:before {content: \"▾\";}#sk-container-id-3 div.sk-estimator input.sk-toggleable__control:checked~label.sk-toggleable__label {background-color: #d4ebff;}#sk-container-id-3 div.sk-label input.sk-toggleable__control:checked~label.sk-toggleable__label {background-color: #d4ebff;}#sk-container-id-3 input.sk-hidden--visually {border: 0;clip: rect(1px 1px 1px 1px);clip: rect(1px, 1px, 1px, 1px);height: 1px;margin: -1px;overflow: hidden;padding: 0;position: absolute;width: 1px;}#sk-container-id-3 div.sk-estimator {font-family: monospace;background-color: #f0f8ff;border: 1px dotted black;border-radius: 0.25em;box-sizing: border-box;margin-bottom: 0.5em;}#sk-container-id-3 div.sk-estimator:hover {background-color: #d4ebff;}#sk-container-id-3 div.sk-parallel-item::after {content: \"\";width: 100%;border-bottom: 1px solid gray;flex-grow: 1;}#sk-container-id-3 div.sk-label:hover label.sk-toggleable__label {background-color: #d4ebff;}#sk-container-id-3 div.sk-serial::before {content: \"\";position: absolute;border-left: 1px solid gray;box-sizing: border-box;top: 0;bottom: 0;left: 50%;z-index: 0;}#sk-container-id-3 div.sk-serial {display: flex;flex-direction: column;align-items: center;background-color: white;padding-right: 0.2em;padding-left: 0.2em;position: relative;}#sk-container-id-3 div.sk-item {position: relative;z-index: 1;}#sk-container-id-3 div.sk-parallel {display: flex;align-items: stretch;justify-content: center;background-color: white;position: relative;}#sk-container-id-3 div.sk-item::before, #sk-container-id-3 div.sk-parallel-item::before {content: \"\";position: absolute;border-left: 1px solid gray;box-sizing: border-box;top: 0;bottom: 0;left: 50%;z-index: -1;}#sk-container-id-3 div.sk-parallel-item {display: flex;flex-direction: column;z-index: 1;position: relative;background-color: white;}#sk-container-id-3 div.sk-parallel-item:first-child::after {align-self: flex-end;width: 50%;}#sk-container-id-3 div.sk-parallel-item:last-child::after {align-self: flex-start;width: 50%;}#sk-container-id-3 div.sk-parallel-item:only-child::after {width: 0;}#sk-container-id-3 div.sk-dashed-wrapped {border: 1px dashed gray;margin: 0 0.4em 0.5em 0.4em;box-sizing: border-box;padding-bottom: 0.4em;background-color: white;}#sk-container-id-3 div.sk-label label {font-family: monospace;font-weight: bold;display: inline-block;line-height: 1.2em;}#sk-container-id-3 div.sk-label-container {text-align: center;}#sk-container-id-3 div.sk-container {/* jupyter's `normalize.less` sets `[hidden] { display: none; }` but bootstrap.min.css set `[hidden] { display: none !important; }` so we also need the `!important` here to be able to override the default hidden behavior on the sphinx rendered scikit-learn.org. See: https://github.com/scikit-learn/scikit-learn/issues/21755 */display: inline-block !important;position: relative;}#sk-container-id-3 div.sk-text-repr-fallback {display: none;}</style><div id=\"sk-container-id-3\" class=\"sk-top-container\"><div class=\"sk-text-repr-fallback\"><pre>RandomForestClassifier(max_depth=8, max_features=&#x27;auto&#x27;, n_estimators=500,\n",
       "                       random_state=42)</pre><b>In a Jupyter environment, please rerun this cell to show the HTML representation or trust the notebook. <br />On GitHub, the HTML representation is unable to render, please try loading this page with nbviewer.org.</b></div><div class=\"sk-container\" hidden><div class=\"sk-item\"><div class=\"sk-estimator sk-toggleable\"><input class=\"sk-toggleable__control sk-hidden--visually\" id=\"sk-estimator-id-3\" type=\"checkbox\" checked><label for=\"sk-estimator-id-3\" class=\"sk-toggleable__label sk-toggleable__label-arrow\">RandomForestClassifier</label><div class=\"sk-toggleable__content\"><pre>RandomForestClassifier(max_depth=8, max_features=&#x27;auto&#x27;, n_estimators=500,\n",
       "                       random_state=42)</pre></div></div></div></div></div>"
      ],
      "text/plain": [
       "RandomForestClassifier(max_depth=8, max_features='auto', n_estimators=500,\n",
       "                       random_state=42)"
      ]
     },
     "execution_count": 166,
     "metadata": {},
     "output_type": "execute_result"
    }
   ],
   "source": [
    "from sklearn.ensemble import RandomForestClassifier\n",
    "RF_Model = RandomForestClassifier(random_state=42, max_features='auto', n_estimators= 500, max_depth=8, criterion='gini')\n",
    "RF_Model.fit(X_train,y_train)"
   ]
  },
  {
   "cell_type": "code",
   "execution_count": 167,
   "id": "f3fbc517-2638-45ea-81b9-583dac73da93",
   "metadata": {},
   "outputs": [
    {
     "data": {
      "text/plain": [
       "array([14,  3, 22, 19,  0, 23, 21, 15,  1, 15, 15, 19, 20, 11, 11, 13, 19,\n",
       "       21,  7, 16, 21, 18,  6, 13,  1, 15, 18, 20, 20,  6, 20,  0, 22, 20,\n",
       "        0, 21, 21, 18, 14, 23, 12, 22, 12, 13, 22, 10,  9,  6, 22, 17, 11,\n",
       "       19, 19, 22,  4, 17, 15,  6, 15,  7,  6, 11, 17, 13,  7, 15, 15, 21,\n",
       "       12,  0,  0, 19, 17, 10, 23, 16, 15, 23,  0,  6,  1,  0, 20,  1, 10,\n",
       "       10, 23,  6, 23, 23, 20, 18,  7, 18,  6,  6, 13, 23, 19, 21, 19, 22,\n",
       "       14, 19,  7, 12, 10,  1, 17,  9, 14, 12, 14, 21,  9, 15, 23, 19, 23,\n",
       "       20, 23, 18,  1, 21,  0, 16, 21, 21, 18,  6, 16, 22,  7, 19, 10, 11,\n",
       "       10,  0,  0, 20, 10, 10, 11,  9, 21, 14, 23, 17, 22, 12, 15, 14,  6,\n",
       "       15, 17,  1, 16, 14, 12,  0, 10, 19, 23, 17, 21, 10, 10, 20, 18, 11,\n",
       "       19, 23, 21, 21, 18,  6, 23, 12,  6, 22,  0,  6, 10, 20, 18,  9, 20,\n",
       "       14,  0, 23, 15, 19, 11, 19,  9, 18,  0, 14,  9, 10, 23, 10,  7, 16,\n",
       "       18, 23,  7, 15,  0,  7, 13,  6,  6, 16,  1, 18, 15,  9, 18,  1,  1,\n",
       "       19, 19, 10, 16, 16,  0, 20, 18, 13, 23, 18, 19, 18, 23, 18,  6, 10,\n",
       "        1, 19, 19, 18, 10, 15, 16, 11, 23, 23, 18, 11, 22, 12, 15,  0, 16,\n",
       "       11, 16,  0, 11,  7,  6,  9,  6, 20, 19,  0, 16, 11, 11, 20, 19,  0,\n",
       "       15, 18, 18, 17, 23,  6, 20, 11, 17, 18,  6,  0, 10,  9, 20,  0,  6,\n",
       "       14, 15, 21, 22, 19, 23,  0,  7, 17, 20,  9, 18, 11,  7,  1,  6, 18,\n",
       "       20, 10,  9, 23, 22,  0, 23, 10, 16, 23, 16, 15, 18, 11, 20,  7, 20,\n",
       "       22, 20, 19, 22, 17,  6, 11, 13,  9, 22,  7,  6, 19, 18,  1,  6, 15,\n",
       "       21, 20,  0,  0,  0,  0, 11, 18, 22, 11,  6, 20, 15,  7,  0, 19, 11,\n",
       "        9, 20,  0,  7,  1, 18, 11,  6,  7, 11, 19, 16, 18, 21, 15,  9, 21,\n",
       "        0,  6, 23, 23,  7, 10,  3, 19, 11, 10, 22, 18, 21, 23,  0, 10,  7,\n",
       "       23, 20, 22, 20, 18, 10, 18, 11,  6, 17,  7,  6,  6, 18, 23,  7, 19,\n",
       "       15, 19, 21, 19,  0, 22, 19,  0,  7, 18, 10, 13, 20, 10, 18, 22, 15,\n",
       "       15, 20, 14,  1, 18,  1, 23,  6, 22, 10, 21, 20, 13, 16, 19, 20, 20,\n",
       "       10,  1, 11, 20, 10,  6,  7, 19, 22, 21, 16, 10,  0, 21,  0, 20, 10,\n",
       "       23, 15, 21, 17, 17,  1, 23, 21,  3,  7, 20, 11, 19, 23,  7, 17,  6,\n",
       "       23, 15, 11, 13,  7,  6,  0, 15, 15, 14, 23,  6,  6, 10, 22,  1, 11,\n",
       "        7, 12,  0, 18,  0, 11, 23, 13, 18, 15, 17, 12, 10, 22, 15, 16, 22,\n",
       "       22, 21, 22,  0,  0, 11, 19, 21, 16, 10, 20, 23, 23,  9, 13, 13, 20,\n",
       "       13, 23, 23, 10, 19, 14, 13, 20, 20,  0, 19,  9, 12, 19, 10, 10, 11,\n",
       "        1, 14, 20, 10, 15, 19,  0, 18, 20, 17, 13, 15,  0, 20, 19, 20,  0,\n",
       "       19, 18, 15, 14,  1, 21, 23,  1, 20, 20, 18, 21, 15, 22, 20, 14,  6,\n",
       "        9, 16, 22, 14,  0, 14,  1,  1, 21, 23, 15, 21, 20, 19, 22, 18,  0,\n",
       "        7,  6,  0,  1, 14, 10,  9,  7, 21,  1, 13, 21, 23, 20,  0, 22, 13,\n",
       "        6, 20, 18,  9,  9, 17, 20, 13, 11])"
      ]
     },
     "execution_count": 167,
     "metadata": {},
     "output_type": "execute_result"
    }
   ],
   "source": [
    "prediction_RF=RF_Model.predict(X_test)\n",
    "prediction_RF"
   ]
  },
  {
   "cell_type": "code",
   "execution_count": 168,
   "id": "5edad7c6-6e05-45d3-942d-401fbce41d26",
   "metadata": {},
   "outputs": [
    {
     "name": "stdout",
     "output_type": "stream",
     "text": [
      "training Score: 0.88\n",
      "test Score: 0.60\n"
     ]
    }
   ],
   "source": [
    "print(\"training Score: {:.2f}\".format(RF_Model.score(X_train, y_train)))\n",
    "print(\"test Score: {:.2f}\".format(RF_Model.score(X_test, y_test)))"
   ]
  },
  {
   "cell_type": "code",
   "execution_count": 170,
   "id": "c95703e6-deb2-47f7-a527-ded54199e35d",
   "metadata": {},
   "outputs": [
    {
     "data": {
      "text/plain": [
       "0.5990338164251208"
      ]
     },
     "execution_count": 170,
     "metadata": {},
     "output_type": "execute_result"
    }
   ],
   "source": [
    "from sklearn.metrics import accuracy_score\n",
    "acuracy=accuracy_score(y_test,prediction_RF)\n",
    "acuracy"
   ]
  },
  {
   "cell_type": "code",
   "execution_count": 169,
   "id": "eed1ebf8-28b5-423b-91ef-646f8b5b1946",
   "metadata": {},
   "outputs": [
    {
     "name": "stdout",
     "output_type": "stream",
     "text": [
      "              precision    recall  f1-score   support\n",
      "\n",
      "           0       0.51      0.96      0.67        26\n",
      "           1       0.88      0.79      0.84        29\n",
      "           2       0.00      0.00      0.00        22\n",
      "           3       0.33      0.04      0.07        25\n",
      "           4       0.00      0.00      0.00        28\n",
      "           5       0.00      0.00      0.00         6\n",
      "           6       0.85      0.95      0.90        37\n",
      "           7       0.69      0.77      0.73        26\n",
      "           8       0.00      0.00      0.00         9\n",
      "           9       0.86      0.49      0.62        37\n",
      "          10       0.60      0.92      0.73        26\n",
      "          11       0.64      0.91      0.75        23\n",
      "          12       0.75      0.32      0.45        28\n",
      "          13       0.70      0.58      0.64        24\n",
      "          14       0.50      0.71      0.59        14\n",
      "          15       0.73      0.69      0.71        39\n",
      "          16       0.57      0.36      0.44        33\n",
      "          17       0.68      0.42      0.52        31\n",
      "          18       0.52      0.92      0.67        25\n",
      "          19       0.60      0.93      0.73        28\n",
      "          20       0.46      0.82      0.59        28\n",
      "          21       0.50      0.65      0.57        26\n",
      "          22       0.41      0.41      0.41        32\n",
      "          23       0.39      0.95      0.55        19\n",
      "\n",
      "    accuracy                           0.60       621\n",
      "   macro avg       0.51      0.57      0.51       621\n",
      "weighted avg       0.56      0.60      0.55       621\n",
      "\n"
     ]
    },
    {
     "name": "stderr",
     "output_type": "stream",
     "text": [
      "C:\\Users\\user\\anaconda3\\envs\\Deeplearning\\lib\\site-packages\\sklearn\\metrics\\_classification.py:1344: UndefinedMetricWarning: Precision and F-score are ill-defined and being set to 0.0 in labels with no predicted samples. Use `zero_division` parameter to control this behavior.\n",
      "  _warn_prf(average, modifier, msg_start, len(result))\n",
      "C:\\Users\\user\\anaconda3\\envs\\Deeplearning\\lib\\site-packages\\sklearn\\metrics\\_classification.py:1344: UndefinedMetricWarning: Precision and F-score are ill-defined and being set to 0.0 in labels with no predicted samples. Use `zero_division` parameter to control this behavior.\n",
      "  _warn_prf(average, modifier, msg_start, len(result))\n",
      "C:\\Users\\user\\anaconda3\\envs\\Deeplearning\\lib\\site-packages\\sklearn\\metrics\\_classification.py:1344: UndefinedMetricWarning: Precision and F-score are ill-defined and being set to 0.0 in labels with no predicted samples. Use `zero_division` parameter to control this behavior.\n",
      "  _warn_prf(average, modifier, msg_start, len(result))\n"
     ]
    }
   ],
   "source": [
    "metrics_RF=metrics.classification_report(y_test, prediction_RF)\n",
    "print(metrics_RF)"
   ]
  },
  {
   "cell_type": "code",
   "execution_count": 171,
   "id": "ec4fff65-1311-4dcb-a33f-4fd9ecc32312",
   "metadata": {},
   "outputs": [
    {
     "data": {
      "text/plain": [
       "<AxesSubplot:>"
      ]
     },
     "execution_count": 171,
     "metadata": {},
     "output_type": "execute_result"
    },
    {
     "data": {
      "image/png": "[encoded data removed]",
      "text/plain": [
       "<Figure size 640x480 with 2 Axes>"
      ]
     },
     "metadata": {},
     "output_type": "display_data"
    }
   ],
   "source": [
    "from sklearn.metrics import confusion_matrix\n",
    "metrics_RF=confusion_matrix(y_test,prediction_RF)\n",
    "sns.heatmap(metrics_RF,annot=True)"
   ]
  },
  {
   "cell_type": "markdown",
   "id": "689809ea-2b2a-41ab-a0ad-9db63c793275",
   "metadata": {},
   "source": [
    "# XGBOOST"
   ]
  },
  {
   "cell_type": "code",
   "execution_count": 146,
   "id": "a4baf8df-05ac-4ddc-9192-3e088bb6e114",
   "metadata": {},
   "outputs": [
    {
     "data": {
      "text/html": [
       "<style>#sk-container-id-1 {color: black;background-color: white;}#sk-container-id-1 pre{padding: 0;}#sk-container-id-1 div.sk-toggleable {background-color: white;}#sk-container-id-1 label.sk-toggleable__label {cursor: pointer;display: block;width: 100%;margin-bottom: 0;padding: 0.3em;box-sizing: border-box;text-align: center;}#sk-container-id-1 label.sk-toggleable__label-arrow:before {content: \"▸\";float: left;margin-right: 0.25em;color: #696969;}#sk-container-id-1 label.sk-toggleable__label-arrow:hover:before {color: black;}#sk-container-id-1 div.sk-estimator:hover label.sk-toggleable__label-arrow:before {color: black;}#sk-container-id-1 div.sk-toggleable__content {max-height: 0;max-width: 0;overflow: hidden;text-align: left;background-color: #f0f8ff;}#sk-container-id-1 div.sk-toggleable__content pre {margin: 0.2em;color: black;border-radius: 0.25em;background-color: #f0f8ff;}#sk-container-id-1 input.sk-toggleable__control:checked~div.sk-toggleable__content {max-height: 200px;max-width: 100%;overflow: auto;}#sk-container-id-1 input.sk-toggleable__control:checked~label.sk-toggleable__label-arrow:before {content: \"▾\";}#sk-container-id-1 div.sk-estimator input.sk-toggleable__control:checked~label.sk-toggleable__label {background-color: #d4ebff;}#sk-container-id-1 div.sk-label input.sk-toggleable__control:checked~label.sk-toggleable__label {background-color: #d4ebff;}#sk-container-id-1 input.sk-hidden--visually {border: 0;clip: rect(1px 1px 1px 1px);clip: rect(1px, 1px, 1px, 1px);height: 1px;margin: -1px;overflow: hidden;padding: 0;position: absolute;width: 1px;}#sk-container-id-1 div.sk-estimator {font-family: monospace;background-color: #f0f8ff;border: 1px dotted black;border-radius: 0.25em;box-sizing: border-box;margin-bottom: 0.5em;}#sk-container-id-1 div.sk-estimator:hover {background-color: #d4ebff;}#sk-container-id-1 div.sk-parallel-item::after {content: \"\";width: 100%;border-bottom: 1px solid gray;flex-grow: 1;}#sk-container-id-1 div.sk-label:hover label.sk-toggleable__label {background-color: #d4ebff;}#sk-container-id-1 div.sk-serial::before {content: \"\";position: absolute;border-left: 1px solid gray;box-sizing: border-box;top: 0;bottom: 0;left: 50%;z-index: 0;}#sk-container-id-1 div.sk-serial {display: flex;flex-direction: column;align-items: center;background-color: white;padding-right: 0.2em;padding-left: 0.2em;position: relative;}#sk-container-id-1 div.sk-item {position: relative;z-index: 1;}#sk-container-id-1 div.sk-parallel {display: flex;align-items: stretch;justify-content: center;background-color: white;position: relative;}#sk-container-id-1 div.sk-item::before, #sk-container-id-1 div.sk-parallel-item::before {content: \"\";position: absolute;border-left: 1px solid gray;box-sizing: border-box;top: 0;bottom: 0;left: 50%;z-index: -1;}#sk-container-id-1 div.sk-parallel-item {display: flex;flex-direction: column;z-index: 1;position: relative;background-color: white;}#sk-container-id-1 div.sk-parallel-item:first-child::after {align-self: flex-end;width: 50%;}#sk-container-id-1 div.sk-parallel-item:last-child::after {align-self: flex-start;width: 50%;}#sk-container-id-1 div.sk-parallel-item:only-child::after {width: 0;}#sk-container-id-1 div.sk-dashed-wrapped {border: 1px dashed gray;margin: 0 0.4em 0.5em 0.4em;box-sizing: border-box;padding-bottom: 0.4em;background-color: white;}#sk-container-id-1 div.sk-label label {font-family: monospace;font-weight: bold;display: inline-block;line-height: 1.2em;}#sk-container-id-1 div.sk-label-container {text-align: center;}#sk-container-id-1 div.sk-container {/* jupyter's `normalize.less` sets `[hidden] { display: none; }` but bootstrap.min.css set `[hidden] { display: none !important; }` so we also need the `!important` here to be able to override the default hidden behavior on the sphinx rendered scikit-learn.org. See: https://github.com/scikit-learn/scikit-learn/issues/21755 */display: inline-block !important;position: relative;}#sk-container-id-1 div.sk-text-repr-fallback {display: none;}</style><div id=\"sk-container-id-1\" class=\"sk-top-container\"><div class=\"sk-text-repr-fallback\"><pre>XGBClassifier(base_score=None, booster=None, callbacks=None,\n",
       "              colsample_bylevel=None, colsample_bynode=None,\n",
       "              colsample_bytree=None, early_stopping_rounds=None,\n",
       "              enable_categorical=False, eval_metric=None, feature_types=None,\n",
       "              gamma=None, gpu_id=None, grow_policy=None, importance_type=None,\n",
       "              interaction_constraints=None, learning_rate=None, max_bin=None,\n",
       "              max_cat_threshold=None, max_cat_to_onehot=None,\n",
       "              max_delta_step=None, max_depth=None, max_leaves=None,\n",
       "              min_child_weight=None, missing=nan, monotone_constraints=None,\n",
       "              n_estimators=100, n_jobs=None, num_parallel_tree=None,\n",
       "              objective=&#x27;multi:softprob&#x27;, predictor=None, ...)</pre><b>In a Jupyter environment, please rerun this cell to show the HTML representation or trust the notebook. <br />On GitHub, the HTML representation is unable to render, please try loading this page with nbviewer.org.</b></div><div class=\"sk-container\" hidden><div class=\"sk-item\"><div class=\"sk-estimator sk-toggleable\"><input class=\"sk-toggleable__control sk-hidden--visually\" id=\"sk-estimator-id-1\" type=\"checkbox\" checked><label for=\"sk-estimator-id-1\" class=\"sk-toggleable__label sk-toggleable__label-arrow\">XGBClassifier</label><div class=\"sk-toggleable__content\"><pre>XGBClassifier(base_score=None, booster=None, callbacks=None,\n",
       "              colsample_bylevel=None, colsample_bynode=None,\n",
       "              colsample_bytree=None, early_stopping_rounds=None,\n",
       "              enable_categorical=False, eval_metric=None, feature_types=None,\n",
       "              gamma=None, gpu_id=None, grow_policy=None, importance_type=None,\n",
       "              interaction_constraints=None, learning_rate=None, max_bin=None,\n",
       "              max_cat_threshold=None, max_cat_to_onehot=None,\n",
       "              max_delta_step=None, max_depth=None, max_leaves=None,\n",
       "              min_child_weight=None, missing=nan, monotone_constraints=None,\n",
       "              n_estimators=100, n_jobs=None, num_parallel_tree=None,\n",
       "              objective=&#x27;multi:softprob&#x27;, predictor=None, ...)</pre></div></div></div></div></div>"
      ],
      "text/plain": [
       "XGBClassifier(base_score=None, booster=None, callbacks=None,\n",
       "              colsample_bylevel=None, colsample_bynode=None,\n",
       "              colsample_bytree=None, early_stopping_rounds=None,\n",
       "              enable_categorical=False, eval_metric=None, feature_types=None,\n",
       "              gamma=None, gpu_id=None, grow_policy=None, importance_type=None,\n",
       "              interaction_constraints=None, learning_rate=None, max_bin=None,\n",
       "              max_cat_threshold=None, max_cat_to_onehot=None,\n",
       "              max_delta_step=None, max_depth=None, max_leaves=None,\n",
       "              min_child_weight=None, missing=nan, monotone_constraints=None,\n",
       "              n_estimators=100, n_jobs=None, num_parallel_tree=None,\n",
       "              objective='multi:softprob', predictor=None, ...)"
      ]
     },
     "execution_count": 146,
     "metadata": {},
     "output_type": "execute_result"
    }
   ],
   "source": [
    "import xgboost as xgb\n",
    "model_xgb=xgb.XGBClassifier()\n",
    "model_xgb.fit(X_train,y_train)"
   ]
  },
  {
   "cell_type": "code",
   "execution_count": 148,
   "id": "95a219b1-44ef-4767-b2cb-bbe4b30d7339",
   "metadata": {},
   "outputs": [
    {
     "data": {
      "text/plain": [
       "array([ 9,  3, 22, 12, 19,  4, 21, 15,  1, 15, 15, 19, 20, 11, 11, 13,  3,\n",
       "       21,  7,  5, 21, 18,  6, 13,  1, 15, 18,  9, 20,  6, 12, 16, 22, 20,\n",
       "        0, 21, 21,  9,  9, 23, 12,  3, 12, 13, 22, 13,  9,  6, 22, 17, 11,\n",
       "       10, 22, 22,  4, 17, 15,  6, 15,  7,  6,  9, 17, 14,  7, 15, 15, 21,\n",
       "       13,  0,  0, 19, 17, 10, 23, 16, 15, 23,  0,  6,  1,  0, 11,  1, 10,\n",
       "       10, 23,  6, 23, 23, 20, 18,  7,  9,  6,  6, 13, 23, 19, 21, 19, 17,\n",
       "       22, 19,  7, 12, 10,  1,  2,  9, 14, 12, 14, 22,  9, 15, 23, 19, 23,\n",
       "       12, 23, 18,  1, 21,  0, 16, 21, 21,  7,  6, 16,  4, 20, 19, 10, 11,\n",
       "       10,  0,  0, 20, 10, 10, 11,  9, 21, 14, 21,  7, 22,  9, 15, 14, 15,\n",
       "       15, 17,  1, 16, 14, 17, 16, 10, 19, 23,  3, 21, 10, 10, 20, 18, 20,\n",
       "       19, 23, 22, 21, 18,  6, 23, 12,  6, 22,  0,  9, 22, 20, 18,  9, 15,\n",
       "       14, 16, 23, 13, 12, 11,  3,  9, 18, 19,  3,  9, 10, 17, 10,  7, 22,\n",
       "       21, 17,  7, 13,  0,  7,  3,  6,  6, 16,  1,  8, 15, 12,  7,  1,  1,\n",
       "       19, 19, 10, 16,  9, 11, 12, 18, 13,  4, 12, 19, 21, 12, 18,  6, 10,\n",
       "        1, 19, 19, 18, 10, 15, 15, 11, 23, 23,  7, 11,  3, 12, 15,  0, 16,\n",
       "        5, 16,  0, 11,  7,  6,  9,  6, 20, 19,  0,  9, 11, 11, 20, 19, 16,\n",
       "       15, 18, 22, 17, 17,  6, 20, 11, 17, 18, 15, 16, 10, 22, 20,  0,  6,\n",
       "       14, 15, 22, 22, 19, 23, 12,  7, 12, 20,  9,  4, 11,  7,  1, 17, 18,\n",
       "       20, 10,  9, 17, 12,  0, 17, 10,  7, 23,  9, 15, 17, 11, 13,  7, 12,\n",
       "       17, 12, 19, 22, 17, 15, 15, 13,  9,  3, 19,  6, 19, 18,  1,  6, 15,\n",
       "       21, 12,  0,  0,  0, 15, 11, 18,  3, 11,  6, 12, 15,  9,  0, 19, 11,\n",
       "       22, 20,  0, 12,  1,  3, 11,  6,  7, 11, 19, 16, 18, 23, 15,  9, 12,\n",
       "        0,  6,  4, 23,  7, 10, 13, 18, 22, 10, 22,  4, 14, 23,  0, 19,  9,\n",
       "       23, 15,  3, 12, 18, 10, 18, 11,  6,  4,  9,  6, 20, 18, 23,  7, 12,\n",
       "       15, 19,  9, 19,  0, 22, 19,  0,  7, 18,  1, 13, 20, 22, 17,  3, 15,\n",
       "       22, 14, 14,  1, 17,  1,  4, 15, 22, 10, 12, 18, 15, 16, 19, 20, 20,\n",
       "       12,  1, 11, 22, 18, 12,  7, 19,  0, 21, 16, 17, 16, 21,  0, 20, 13,\n",
       "        4, 15, 21, 17,  0,  1, 20, 21, 22,  7, 20,  2, 19, 23,  7, 12,  6,\n",
       "       17, 15, 11, 13,  7,  6,  0, 15, 15, 14, 23,  6, 22, 10, 19,  1, 11,\n",
       "        7, 12, 12, 18, 12, 11, 23, 13,  1, 15, 17, 12, 10, 22, 15, 16, 22,\n",
       "       22, 14, 22,  0,  7, 11, 19, 21, 16, 23, 20,  2,  1,  3, 13,  3, 20,\n",
       "       13,  4, 22, 10, 19, 12, 13, 12, 20, 16, 19,  9, 12, 12, 12, 10, 11,\n",
       "        1, 14, 20,  1, 15, 19, 16, 17,  8, 17, 15, 15,  0,  6, 19, 20,  0,\n",
       "       19, 18, 15, 14,  1, 21, 23,  1, 12, 12, 21, 21, 15, 22, 20, 14,  6,\n",
       "        9, 16, 22, 14,  0, 12,  1,  1, 21, 23, 15, 21, 20, 19, 22, 18,  0,\n",
       "        7,  6,  0,  1, 12, 12,  9,  7, 21,  1, 13, 21, 20,  2, 16, 22, 13,\n",
       "        3, 12, 11,  9, 12, 17, 20, 13, 11], dtype=int64)"
      ]
     },
     "execution_count": 148,
     "metadata": {},
     "output_type": "execute_result"
    }
   ],
   "source": [
    "prediction_xgb=model_xgb.predict(X_test)\n",
    "prediction_xgb"
   ]
  },
  {
   "cell_type": "code",
   "execution_count": 150,
   "id": "70033f21-9d96-4ce4-9cd0-4ed1b973017f",
   "metadata": {},
   "outputs": [
    {
     "data": {
      "text/plain": [
       "0.644122383252818"
      ]
     },
     "execution_count": 150,
     "metadata": {},
     "output_type": "execute_result"
    }
   ],
   "source": [
    "from sklearn.metrics import accuracy_score\n",
    "acuracy=accuracy_score(y_test,prediction_xgb)\n",
    "acuracy"
   ]
  },
  {
   "cell_type": "code",
   "execution_count": 151,
   "id": "7dff0778-3040-4a6c-ae6c-47b11e3c5c75",
   "metadata": {},
   "outputs": [],
   "source": [
    "import seaborn as sns "
   ]
  },
  {
   "cell_type": "code",
   "execution_count": 153,
   "id": "9b0399f6-7084-4347-b998-7bb374ff6b2a",
   "metadata": {},
   "outputs": [
    {
     "data": {
      "text/plain": [
       "<AxesSubplot:>"
      ]
     },
     "execution_count": 153,
     "metadata": {},
     "output_type": "execute_result"
    },
    {
     "data": {
      "image/png": "[encoded data removed]",
      "text/plain": [
       "<Figure size 640x480 with 2 Axes>"
      ]
     },
     "metadata": {},
     "output_type": "display_data"
    }
   ],
   "source": [
    "from sklearn.metrics import confusion_matrix\n",
    "metrics_xgb=confusion_matrix(y_test,prediction_xgb)\n",
    "sns.heatmap(metrics_xgb,annot=True)"
   ]
  },
  {
   "cell_type": "code",
   "execution_count": null,
   "id": "ff11fc1c-982f-4486-8cd0-5eca78d88346",
   "metadata": {},
   "outputs": [],
   "source": []
  }
 ],
 "metadata": {
  "kernelspec": {
   "display_name": "Python 3 (ipykernel)",
   "language": "python",
   "name": "python3"
  },
  "language_info": {
   "codemirror_mode": {
    "name": "ipython",
    "version": 3
   },
   "file_extension": ".py",
   "mimetype": "text/x-python",
   "name": "python",
   "nbconvert_exporter": "python",
   "pygments_lexer": "ipython3",
   "version": "3.8.13"
  }
 },
 "nbformat": 4,
 "nbformat_minor": 5
}
